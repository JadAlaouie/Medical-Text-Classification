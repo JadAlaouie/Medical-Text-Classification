{
  "cells": [
    {
      "cell_type": "markdown",
      "metadata": {
        "id": "33RdlvS_Bxry"
      },
      "source": [
        "## **Medical Classification**\n",
        "    Jad Alaouie\n",
        "    Joe Nouaime\n",
        "    Tia Manoukian"
      ]
    },
    {
      "cell_type": "code",
      "execution_count": 2,
      "metadata": {
        "colab": {
          "base_uri": "https://localhost:8080/"
        },
        "id": "Qz79qZN0CvsS",
        "outputId": "3b2a1608-44e9-4aa6-f877-6297f6a501f9"
      },
      "outputs": [
        {
          "output_type": "stream",
          "name": "stdout",
          "text": [
            "Requirement already satisfied: datasets in /usr/local/lib/python3.10/dist-packages (2.19.0)\n",
            "Requirement already satisfied: filelock in /usr/local/lib/python3.10/dist-packages (from datasets) (3.14.0)\n",
            "Requirement already satisfied: numpy>=1.17 in /usr/local/lib/python3.10/dist-packages (from datasets) (1.25.2)\n",
            "Requirement already satisfied: pyarrow>=12.0.0 in /usr/local/lib/python3.10/dist-packages (from datasets) (14.0.2)\n",
            "Requirement already satisfied: pyarrow-hotfix in /usr/local/lib/python3.10/dist-packages (from datasets) (0.6)\n",
            "Requirement already satisfied: dill<0.3.9,>=0.3.0 in /usr/local/lib/python3.10/dist-packages (from datasets) (0.3.8)\n",
            "Requirement already satisfied: pandas in /usr/local/lib/python3.10/dist-packages (from datasets) (2.0.3)\n",
            "Requirement already satisfied: requests>=2.19.0 in /usr/local/lib/python3.10/dist-packages (from datasets) (2.31.0)\n",
            "Requirement already satisfied: tqdm>=4.62.1 in /usr/local/lib/python3.10/dist-packages (from datasets) (4.66.2)\n",
            "Requirement already satisfied: xxhash in /usr/local/lib/python3.10/dist-packages (from datasets) (3.4.1)\n",
            "Requirement already satisfied: multiprocess in /usr/local/lib/python3.10/dist-packages (from datasets) (0.70.16)\n",
            "Requirement already satisfied: fsspec[http]<=2024.3.1,>=2023.1.0 in /usr/local/lib/python3.10/dist-packages (from datasets) (2023.6.0)\n",
            "Requirement already satisfied: aiohttp in /usr/local/lib/python3.10/dist-packages (from datasets) (3.9.5)\n",
            "Requirement already satisfied: huggingface-hub>=0.21.2 in /usr/local/lib/python3.10/dist-packages (from datasets) (0.23.0)\n",
            "Requirement already satisfied: packaging in /usr/local/lib/python3.10/dist-packages (from datasets) (24.0)\n",
            "Requirement already satisfied: pyyaml>=5.1 in /usr/local/lib/python3.10/dist-packages (from datasets) (6.0.1)\n",
            "Requirement already satisfied: aiosignal>=1.1.2 in /usr/local/lib/python3.10/dist-packages (from aiohttp->datasets) (1.3.1)\n",
            "Requirement already satisfied: attrs>=17.3.0 in /usr/local/lib/python3.10/dist-packages (from aiohttp->datasets) (23.2.0)\n",
            "Requirement already satisfied: frozenlist>=1.1.1 in /usr/local/lib/python3.10/dist-packages (from aiohttp->datasets) (1.4.1)\n",
            "Requirement already satisfied: multidict<7.0,>=4.5 in /usr/local/lib/python3.10/dist-packages (from aiohttp->datasets) (6.0.5)\n",
            "Requirement already satisfied: yarl<2.0,>=1.0 in /usr/local/lib/python3.10/dist-packages (from aiohttp->datasets) (1.9.4)\n",
            "Requirement already satisfied: async-timeout<5.0,>=4.0 in /usr/local/lib/python3.10/dist-packages (from aiohttp->datasets) (4.0.3)\n",
            "Requirement already satisfied: typing-extensions>=3.7.4.3 in /usr/local/lib/python3.10/dist-packages (from huggingface-hub>=0.21.2->datasets) (4.11.0)\n",
            "Requirement already satisfied: charset-normalizer<4,>=2 in /usr/local/lib/python3.10/dist-packages (from requests>=2.19.0->datasets) (3.3.2)\n",
            "Requirement already satisfied: idna<4,>=2.5 in /usr/local/lib/python3.10/dist-packages (from requests>=2.19.0->datasets) (3.7)\n",
            "Requirement already satisfied: urllib3<3,>=1.21.1 in /usr/local/lib/python3.10/dist-packages (from requests>=2.19.0->datasets) (2.0.7)\n",
            "Requirement already satisfied: certifi>=2017.4.17 in /usr/local/lib/python3.10/dist-packages (from requests>=2.19.0->datasets) (2024.2.2)\n",
            "Requirement already satisfied: python-dateutil>=2.8.2 in /usr/local/lib/python3.10/dist-packages (from pandas->datasets) (2.8.2)\n",
            "Requirement already satisfied: pytz>=2020.1 in /usr/local/lib/python3.10/dist-packages (from pandas->datasets) (2023.4)\n",
            "Requirement already satisfied: tzdata>=2022.1 in /usr/local/lib/python3.10/dist-packages (from pandas->datasets) (2024.1)\n",
            "Requirement already satisfied: six>=1.5 in /usr/local/lib/python3.10/dist-packages (from python-dateutil>=2.8.2->pandas->datasets) (1.16.0)\n"
          ]
        }
      ],
      "source": [
        "import pandas as pd\n",
        "import seaborn as sns\n",
        "import numpy as np\n",
        "import matplotlib.pyplot as plt\n",
        "from sklearn.model_selection import learning_curve\n",
        "from sklearn.model_selection import train_test_split\n",
        "from sklearn.feature_extraction.text import TfidfVectorizer\n",
        "from sklearn.linear_model import LogisticRegression\n",
        "from sklearn.metrics import accuracy_score, confusion_matrix, classification_report\n",
        "from sklearn.svm import SVC\n",
        "import xgboost as xgb\n",
        "from sklearn.model_selection import GridSearchCV\n",
        "\n",
        "\n",
        "%pip install datasets\n",
        "from datasets import Dataset\n",
        "from transformers import BertTokenizer, BertForSequenceClassification, AdamW, Trainer, TrainingArguments\n",
        "from torch.utils.data import TensorDataset, DataLoader, RandomSampler, SequentialSampler\n",
        "import torch\n",
        "\n",
        "# Make sure to restart the kernel if you're using google colab.\n",
        "%pip install accelerate>=0.21.0\n",
        "\n",
        "import tensorflow as tf\n",
        "from tensorflow.keras.models import Sequential\n",
        "from tensorflow.keras.layers import LSTM, Dense, Embedding, Dropout, Bidirectional, BatchNormalization,SpatialDropout1D, SimpleRNN, GRU\n",
        "from tensorflow.keras.regularizers import L2\n",
        "from tensorflow.keras.optimizers import Adam\n",
        "from tensorflow.keras.callbacks import EarlyStopping, ReduceLROnPlateau\n",
        "from tensorflow.keras.preprocessing.text import Tokenizer\n",
        "from tensorflow.keras.preprocessing.sequence import pad_sequences\n",
        "from tensorflow.keras.regularizers import l1_l2\n",
        "from sklearn.preprocessing import LabelEncoder\n",
        "from sklearn.utils import shuffle\n",
        "from sklearn.model_selection import train_test_split\n",
        "from keras import regularizers\n",
        "from sklearn.utils.class_weight import compute_class_weight\n",
        "from tensorflow.keras.optimizers import SGD\n"
      ]
    },
    {
      "cell_type": "code",
      "execution_count": 2,
      "metadata": {
        "id": "fav8yrRkYrFk"
      },
      "outputs": [],
      "source": [
        "# Reading the new pre-processed and augmented data (code available in Data Pre-Processing.ipynb)\n",
        "new_data = pd.read_csv('/content/new_data.csv')"
      ]
    },
    {
      "cell_type": "code",
      "source": [
        "new_data.head()"
      ],
      "metadata": {
        "colab": {
          "base_uri": "https://localhost:8080/",
          "height": 206
        },
        "id": "4izE_286Bbzh",
        "outputId": "461adf3a-bad5-4ca9-f26f-d5c16aade7c4"
      },
      "execution_count": 3,
      "outputs": [
        {
          "output_type": "execute_result",
          "data": {
            "text/plain": [
              "   condition_label                                   medical_abstract\n",
              "0                5  ting bipolar hemi arth roplasty subc ap ital f...\n",
              "1                5  receive ting bipolar hemi arth roplasty subc a...\n",
              "2                5  ting bipolar hemi arth roplasty subc ap ital f...\n",
              "3                5  stool contain altered rake plasma urea creatin...\n",
              "4                5  stool hold change rake plasma urea creatinine ..."
            ],
            "text/html": [
              "\n",
              "  <div id=\"df-8f78c77c-d6c4-4a33-bb74-3879d1489d9c\" class=\"colab-df-container\">\n",
              "    <div>\n",
              "<style scoped>\n",
              "    .dataframe tbody tr th:only-of-type {\n",
              "        vertical-align: middle;\n",
              "    }\n",
              "\n",
              "    .dataframe tbody tr th {\n",
              "        vertical-align: top;\n",
              "    }\n",
              "\n",
              "    .dataframe thead th {\n",
              "        text-align: right;\n",
              "    }\n",
              "</style>\n",
              "<table border=\"1\" class=\"dataframe\">\n",
              "  <thead>\n",
              "    <tr style=\"text-align: right;\">\n",
              "      <th></th>\n",
              "      <th>condition_label</th>\n",
              "      <th>medical_abstract</th>\n",
              "    </tr>\n",
              "  </thead>\n",
              "  <tbody>\n",
              "    <tr>\n",
              "      <th>0</th>\n",
              "      <td>5</td>\n",
              "      <td>ting bipolar hemi arth roplasty subc ap ital f...</td>\n",
              "    </tr>\n",
              "    <tr>\n",
              "      <th>1</th>\n",
              "      <td>5</td>\n",
              "      <td>receive ting bipolar hemi arth roplasty subc a...</td>\n",
              "    </tr>\n",
              "    <tr>\n",
              "      <th>2</th>\n",
              "      <td>5</td>\n",
              "      <td>ting bipolar hemi arth roplasty subc ap ital f...</td>\n",
              "    </tr>\n",
              "    <tr>\n",
              "      <th>3</th>\n",
              "      <td>5</td>\n",
              "      <td>stool contain altered rake plasma urea creatin...</td>\n",
              "    </tr>\n",
              "    <tr>\n",
              "      <th>4</th>\n",
              "      <td>5</td>\n",
              "      <td>stool hold change rake plasma urea creatinine ...</td>\n",
              "    </tr>\n",
              "  </tbody>\n",
              "</table>\n",
              "</div>\n",
              "    <div class=\"colab-df-buttons\">\n",
              "\n",
              "  <div class=\"colab-df-container\">\n",
              "    <button class=\"colab-df-convert\" onclick=\"convertToInteractive('df-8f78c77c-d6c4-4a33-bb74-3879d1489d9c')\"\n",
              "            title=\"Convert this dataframe to an interactive table.\"\n",
              "            style=\"display:none;\">\n",
              "\n",
              "  <svg xmlns=\"http://www.w3.org/2000/svg\" height=\"24px\" viewBox=\"0 -960 960 960\">\n",
              "    <path d=\"M120-120v-720h720v720H120Zm60-500h600v-160H180v160Zm220 220h160v-160H400v160Zm0 220h160v-160H400v160ZM180-400h160v-160H180v160Zm440 0h160v-160H620v160ZM180-180h160v-160H180v160Zm440 0h160v-160H620v160Z\"/>\n",
              "  </svg>\n",
              "    </button>\n",
              "\n",
              "  <style>\n",
              "    .colab-df-container {\n",
              "      display:flex;\n",
              "      gap: 12px;\n",
              "    }\n",
              "\n",
              "    .colab-df-convert {\n",
              "      background-color: #E8F0FE;\n",
              "      border: none;\n",
              "      border-radius: 50%;\n",
              "      cursor: pointer;\n",
              "      display: none;\n",
              "      fill: #1967D2;\n",
              "      height: 32px;\n",
              "      padding: 0 0 0 0;\n",
              "      width: 32px;\n",
              "    }\n",
              "\n",
              "    .colab-df-convert:hover {\n",
              "      background-color: #E2EBFA;\n",
              "      box-shadow: 0px 1px 2px rgba(60, 64, 67, 0.3), 0px 1px 3px 1px rgba(60, 64, 67, 0.15);\n",
              "      fill: #174EA6;\n",
              "    }\n",
              "\n",
              "    .colab-df-buttons div {\n",
              "      margin-bottom: 4px;\n",
              "    }\n",
              "\n",
              "    [theme=dark] .colab-df-convert {\n",
              "      background-color: #3B4455;\n",
              "      fill: #D2E3FC;\n",
              "    }\n",
              "\n",
              "    [theme=dark] .colab-df-convert:hover {\n",
              "      background-color: #434B5C;\n",
              "      box-shadow: 0px 1px 3px 1px rgba(0, 0, 0, 0.15);\n",
              "      filter: drop-shadow(0px 1px 2px rgba(0, 0, 0, 0.3));\n",
              "      fill: #FFFFFF;\n",
              "    }\n",
              "  </style>\n",
              "\n",
              "    <script>\n",
              "      const buttonEl =\n",
              "        document.querySelector('#df-8f78c77c-d6c4-4a33-bb74-3879d1489d9c button.colab-df-convert');\n",
              "      buttonEl.style.display =\n",
              "        google.colab.kernel.accessAllowed ? 'block' : 'none';\n",
              "\n",
              "      async function convertToInteractive(key) {\n",
              "        const element = document.querySelector('#df-8f78c77c-d6c4-4a33-bb74-3879d1489d9c');\n",
              "        const dataTable =\n",
              "          await google.colab.kernel.invokeFunction('convertToInteractive',\n",
              "                                                    [key], {});\n",
              "        if (!dataTable) return;\n",
              "\n",
              "        const docLinkHtml = 'Like what you see? Visit the ' +\n",
              "          '<a target=\"_blank\" href=https://colab.research.google.com/notebooks/data_table.ipynb>data table notebook</a>'\n",
              "          + ' to learn more about interactive tables.';\n",
              "        element.innerHTML = '';\n",
              "        dataTable['output_type'] = 'display_data';\n",
              "        await google.colab.output.renderOutput(dataTable, element);\n",
              "        const docLink = document.createElement('div');\n",
              "        docLink.innerHTML = docLinkHtml;\n",
              "        element.appendChild(docLink);\n",
              "      }\n",
              "    </script>\n",
              "  </div>\n",
              "\n",
              "\n",
              "<div id=\"df-2782cd50-393d-4558-b7c3-80ecc47eb42a\">\n",
              "  <button class=\"colab-df-quickchart\" onclick=\"quickchart('df-2782cd50-393d-4558-b7c3-80ecc47eb42a')\"\n",
              "            title=\"Suggest charts\"\n",
              "            style=\"display:none;\">\n",
              "\n",
              "<svg xmlns=\"http://www.w3.org/2000/svg\" height=\"24px\"viewBox=\"0 0 24 24\"\n",
              "     width=\"24px\">\n",
              "    <g>\n",
              "        <path d=\"M19 3H5c-1.1 0-2 .9-2 2v14c0 1.1.9 2 2 2h14c1.1 0 2-.9 2-2V5c0-1.1-.9-2-2-2zM9 17H7v-7h2v7zm4 0h-2V7h2v10zm4 0h-2v-4h2v4z\"/>\n",
              "    </g>\n",
              "</svg>\n",
              "  </button>\n",
              "\n",
              "<style>\n",
              "  .colab-df-quickchart {\n",
              "      --bg-color: #E8F0FE;\n",
              "      --fill-color: #1967D2;\n",
              "      --hover-bg-color: #E2EBFA;\n",
              "      --hover-fill-color: #174EA6;\n",
              "      --disabled-fill-color: #AAA;\n",
              "      --disabled-bg-color: #DDD;\n",
              "  }\n",
              "\n",
              "  [theme=dark] .colab-df-quickchart {\n",
              "      --bg-color: #3B4455;\n",
              "      --fill-color: #D2E3FC;\n",
              "      --hover-bg-color: #434B5C;\n",
              "      --hover-fill-color: #FFFFFF;\n",
              "      --disabled-bg-color: #3B4455;\n",
              "      --disabled-fill-color: #666;\n",
              "  }\n",
              "\n",
              "  .colab-df-quickchart {\n",
              "    background-color: var(--bg-color);\n",
              "    border: none;\n",
              "    border-radius: 50%;\n",
              "    cursor: pointer;\n",
              "    display: none;\n",
              "    fill: var(--fill-color);\n",
              "    height: 32px;\n",
              "    padding: 0;\n",
              "    width: 32px;\n",
              "  }\n",
              "\n",
              "  .colab-df-quickchart:hover {\n",
              "    background-color: var(--hover-bg-color);\n",
              "    box-shadow: 0 1px 2px rgba(60, 64, 67, 0.3), 0 1px 3px 1px rgba(60, 64, 67, 0.15);\n",
              "    fill: var(--button-hover-fill-color);\n",
              "  }\n",
              "\n",
              "  .colab-df-quickchart-complete:disabled,\n",
              "  .colab-df-quickchart-complete:disabled:hover {\n",
              "    background-color: var(--disabled-bg-color);\n",
              "    fill: var(--disabled-fill-color);\n",
              "    box-shadow: none;\n",
              "  }\n",
              "\n",
              "  .colab-df-spinner {\n",
              "    border: 2px solid var(--fill-color);\n",
              "    border-color: transparent;\n",
              "    border-bottom-color: var(--fill-color);\n",
              "    animation:\n",
              "      spin 1s steps(1) infinite;\n",
              "  }\n",
              "\n",
              "  @keyframes spin {\n",
              "    0% {\n",
              "      border-color: transparent;\n",
              "      border-bottom-color: var(--fill-color);\n",
              "      border-left-color: var(--fill-color);\n",
              "    }\n",
              "    20% {\n",
              "      border-color: transparent;\n",
              "      border-left-color: var(--fill-color);\n",
              "      border-top-color: var(--fill-color);\n",
              "    }\n",
              "    30% {\n",
              "      border-color: transparent;\n",
              "      border-left-color: var(--fill-color);\n",
              "      border-top-color: var(--fill-color);\n",
              "      border-right-color: var(--fill-color);\n",
              "    }\n",
              "    40% {\n",
              "      border-color: transparent;\n",
              "      border-right-color: var(--fill-color);\n",
              "      border-top-color: var(--fill-color);\n",
              "    }\n",
              "    60% {\n",
              "      border-color: transparent;\n",
              "      border-right-color: var(--fill-color);\n",
              "    }\n",
              "    80% {\n",
              "      border-color: transparent;\n",
              "      border-right-color: var(--fill-color);\n",
              "      border-bottom-color: var(--fill-color);\n",
              "    }\n",
              "    90% {\n",
              "      border-color: transparent;\n",
              "      border-bottom-color: var(--fill-color);\n",
              "    }\n",
              "  }\n",
              "</style>\n",
              "\n",
              "  <script>\n",
              "    async function quickchart(key) {\n",
              "      const quickchartButtonEl =\n",
              "        document.querySelector('#' + key + ' button');\n",
              "      quickchartButtonEl.disabled = true;  // To prevent multiple clicks.\n",
              "      quickchartButtonEl.classList.add('colab-df-spinner');\n",
              "      try {\n",
              "        const charts = await google.colab.kernel.invokeFunction(\n",
              "            'suggestCharts', [key], {});\n",
              "      } catch (error) {\n",
              "        console.error('Error during call to suggestCharts:', error);\n",
              "      }\n",
              "      quickchartButtonEl.classList.remove('colab-df-spinner');\n",
              "      quickchartButtonEl.classList.add('colab-df-quickchart-complete');\n",
              "    }\n",
              "    (() => {\n",
              "      let quickchartButtonEl =\n",
              "        document.querySelector('#df-2782cd50-393d-4558-b7c3-80ecc47eb42a button');\n",
              "      quickchartButtonEl.style.display =\n",
              "        google.colab.kernel.accessAllowed ? 'block' : 'none';\n",
              "    })();\n",
              "  </script>\n",
              "</div>\n",
              "\n",
              "    </div>\n",
              "  </div>\n"
            ],
            "application/vnd.google.colaboratory.intrinsic+json": {
              "type": "dataframe",
              "variable_name": "new_data",
              "summary": "{\n  \"name\": \"new_data\",\n  \"rows\": 45000,\n  \"fields\": [\n    {\n      \"column\": \"condition_label\",\n      \"properties\": {\n        \"dtype\": \"number\",\n        \"std\": 1,\n        \"min\": 1,\n        \"max\": 5,\n        \"num_unique_values\": 5,\n        \"samples\": [\n          3,\n          4,\n          2\n        ],\n        \"semantic_type\": \"\",\n        \"description\": \"\"\n      }\n    },\n    {\n      \"column\": \"medical_abstract\",\n      \"properties\": {\n        \"dtype\": \"string\",\n        \"num_unique_values\": 45000,\n        \"samples\": [\n          \"protamine heparin induce pneumonic highbloodpressure devour effect discussion deoxyadenosinemonophosphate thromboxane receptor antagonist hemodynamics curdling adverse hemodynamic reaction protamine neutralization heparin associateinnursing infrequent merely authoritative clinical trouble pre discussion swine angstrom thromboxane a2 senseorgan adversary report prevent pneumonic hypertensive response occasionally gosteady protamine reversal heparin anticoagulation stream study ampere control group pig nitrogen nine experience intravenous heparin threehundred iu kilogram follow subsequently ten minute deoxyadenosinemonophosphate neutralize dose protamine three milligram kilogram deoxyadenosinemonophosphate treatment group farrow newton eleven tempered identical ly demur thromboxane a2 senseorgan adversary fifty sixtyseven 05 96 two milligram kilogram infuse intravenously two min subsequently protamine infusion hemodynamic curdling profile monitor routine pneumonic highbloodpressure develop reach angstrom point inside two minute protamine administration often time l sixtyseven 05 96 cost administer indiana discussion group statistical deviation control treatment group point pneumonic arterial pressure point pneumonic vascular resistance however interval return mean pneumonic artery pressure peak baseline value equal eleven six three one versus five five one nine minute mean southdakota control treatment group respectively phosphorus lupuserythematosus zero 01 thromboxane b2 plasma concentration increased group correlate pneumonic hypertensive answer radius zero eightysix phosphorus le zero 01 platelet collection collagen inhibited thromboxane a2 receptor antagonist p le zero 05 shedblood time exist drawnout beyond convention range fifty fifty sixtyseven 05 96 treat pig early curdling examination inch group return serviceline reverse heparin protamine unaffected aside liter sixtyseven 05 96\",\n          \"verbal memory deterioration correlate hippocampal pyramidal cell concentration thirty five patient medically furnacelining epilepsy place temporal lobe eighteen leftover seventeen right completed verbal selective prompt ing screen earlier surgery verbal memory damage exist earlier surgery careless lateralization seizure focus merely affectedrole leftover temporal seizure stress significantly mar subsequently surgical removal mesial temporal lobe structure two blind observer prove volumetric cell density hippocampal subf ields ca1 ca2 ca3 hilar sphere granule cell layer area dent ata statistically significant correlationcoefficient exist pres urgical memory stultification cellulartelephone count ca3 hilar area affectedrole leave worldly capture focus finding support hippocampal model memory complement prior research document memory damage confront surgical removal mesial temporal structure\",\n          \"furosemide 131i hipp uran ren ography angiotensin convert enzyme inhibition diagnosis ren ovascular highbloodpressure purpose previously demonstrated great sensitivity 131i hipp uran ren ography 99mtc dtpa scintigraphy diagnose ren ovascular highbloodpressure recreationalvehicle h study buttock predictive diagnostic measure furosemide 131i hipp uran ren ography subsequently angiotensin convert enzyme angiotensinconvertingenzyme inhibition patient without recreationalvehicle h patient method affectedrole investigate astatine university securityservice ami jack son mem orial medical center twenty eightspot patient recreationalvehicle h twentytwo cause twenty eight affectedrole normal operatingroom minimally decrease nephritic function serum creatinine level one five magnesium deciliter oregon le twentytwo nephritic insufficiency serum creatinine flat one eight milligram deciliter operatingroom ren ography equal perform sixty minute oral government fifty magnesium captopril operatingroom ten hour intravenous injection forty microgram kilogram enalapril forty milligr am furosemide administer intravenously two hour injection 131i hipp uran residual cortical naturalprocess rca 131i hipp uran mensural astatine twenty minute result recreationalvehicle h improbable rca ace inhibition exist le thirty vertex cortical bodilyprocess conversely recreationalvehicle h present 131i hipp uran cortical naturalprocess steadily increase throughout test achieve hundred twenty minute azo te mic affectedrole rca thirtyone hundred recreationalvehicle h exist speciate intrinsic nephritic disease aside prevail vitamina baseline ren ogram without ace inhibition compare rca indium study rca subsequently one inhibition rca increase indicate worsening nephritic function subsequently breezethrough inhibition recreationalvehicle h likely whereas intrinsic nephritic disease exist probably rca remain unaltered oregon decrease indicate better nephritic function angiotensinconvertingenzyme inhibition quiz get specificity ninetyfive deoxyadenosinemonophosphate sensitivity ninetysix inch population direct correlationcoefficient solution angioplasty oregon operation high blood blackmail variety indium rca earlier subsequently intervention newton twenty conclusion furosemide 131i hipp uran ren ography ace inhibition exist highly predictive inch identify affectedrole recreationalvehicle h\"\n        ],\n        \"semantic_type\": \"\",\n        \"description\": \"\"\n      }\n    }\n  ]\n}"
            }
          },
          "metadata": {},
          "execution_count": 3
        }
      ]
    },
    {
      "cell_type": "code",
      "source": [
        "new_data = new_data.sample(frac=1)"
      ],
      "metadata": {
        "id": "115MovfSBgte"
      },
      "execution_count": 4,
      "outputs": []
    },
    {
      "cell_type": "code",
      "execution_count": 5,
      "metadata": {
        "id": "626hJMpoPPby"
      },
      "outputs": [],
      "source": [
        "# Split dataset into 60% Train set, 20% Validation set, 20% Test set.\n",
        "X_train, X_test, y_train, y_test = train_test_split(new_data['medical_abstract'],\n",
        "                                                         new_data['condition_label'],\n",
        "                                                         test_size = 0.2,\n",
        "                                                         random_state = 42,\n",
        "                                                         shuffle = True)\n",
        "\n",
        "X_train, X_validation, y_train, y_validation = train_test_split(X_train,\n",
        "                                                         y_train,\n",
        "                                                         test_size = 0.2,\n",
        "                                                         random_state = 42,\n",
        "                                                         shuffle = True)"
      ]
    },
    {
      "cell_type": "code",
      "execution_count": 6,
      "metadata": {
        "id": "8kKT5rBQDcV4"
      },
      "outputs": [],
      "source": [
        "# TF-IDF Vectorizer to convert text data into a matrix of TF-IDF features.\n",
        "tfidf_vectorizer = TfidfVectorizer()\n",
        "\n",
        "# Fitting the vectorizer to the training data and transform it into a TF-IDF-weighted document-term matrix.\n",
        "X_train = tfidf_vectorizer.fit_transform(X_train)\n",
        "\n",
        "# Transforming the validation and test datasets using the already fitted TF-IDF vectorizer.\n",
        "X_validation = tfidf_vectorizer.transform(X_validation)\n",
        "X_test = tfidf_vectorizer.transform(X_test)"
      ]
    },
    {
      "cell_type": "code",
      "execution_count": 7,
      "metadata": {
        "id": "uLAXkMSEDgku"
      },
      "outputs": [],
      "source": [
        "# Calculating the number of words in each 'medical_abstract' and store the results in a new column 'sentence_length'.\n",
        "new_data['sentence_length'] = new_data['medical_abstract'].apply(lambda x: len(x.split()))"
      ]
    },
    {
      "cell_type": "code",
      "execution_count": 8,
      "metadata": {
        "colab": {
          "base_uri": "https://localhost:8080/"
        },
        "id": "aFrb601RElSP",
        "outputId": "1e5eae80-441d-40e9-d116-a9bf85549140"
      },
      "outputs": [
        {
          "output_type": "stream",
          "name": "stdout",
          "text": [
            "Maximum sentence length:  473\n",
            "average sentence length:  142.9561111111111\n"
          ]
        }
      ],
      "source": [
        "# Max sentence length in the dataset.\n",
        "max_sentence_length = new_data['sentence_length'].max()\n",
        "print(\"Maximum sentence length: \", max_sentence_length)\n",
        "\n",
        "# Average sentence length in the dataset.\n",
        "average_sentence_length = new_data['sentence_length'].mean()\n",
        "print(\"average sentence length: \", average_sentence_length)"
      ]
    },
    {
      "cell_type": "markdown",
      "metadata": {
        "id": "wo6czJse1sEK"
      },
      "source": [
        "**Learning Curve**"
      ]
    },
    {
      "cell_type": "code",
      "execution_count": 9,
      "metadata": {
        "id": "Qh18gS2D1rGj"
      },
      "outputs": [],
      "source": [
        "# code extracted from the official website of sklearn.\n",
        "def plot_learning_curve(estimator, title, X_train, y_train, X_val, y_val, ylim=None, cv=None,\n",
        "                        n_jobs=None, train_sizes=np.linspace(.1, 1.0, 5)):\n",
        "    \"\"\"\n",
        "    Generate a simple plot of the test and training learning curve.\n",
        "\n",
        "    Parameters\n",
        "    ----------\n",
        "    estimator : object type that implements the \"fit\" and \"predict\" methods\n",
        "        An object of that type which is cloned for each validation.\n",
        "\n",
        "    title : string\n",
        "        Title for the chart.\n",
        "\n",
        "    X_train : array-like, shape (n_samples, n_features)\n",
        "        Training vector, where n_samples is the number of samples and\n",
        "        n_features is the number of features.\n",
        "\n",
        "    y_train : array-like, shape (n_samples) or (n_samples, n_features), optional\n",
        "        Target relative to X_train for classification or regression.\n",
        "\n",
        "    X_val : array-like, shape (n_samples, n_features)\n",
        "        Validation vector, where n_samples is the number of samples and\n",
        "        n_features is the number of features.\n",
        "\n",
        "    y_val : array-like, shape (n_samples) or (n_samples, n_features), optional\n",
        "        Target relative to X_val for classification or regression.\n",
        "\n",
        "    ylim : tuple, shape (ymin, ymax), optional\n",
        "        Defines minimum and maximum y-values plotted.\n",
        "\n",
        "    cv : int, cross-validation generator or an iterable, optional\n",
        "        Determines the cross-validation splitting strategy.\n",
        "        Possible inputs for cv are:\n",
        "          - None, to use the default 5-fold cross-validation,\n",
        "          - integer, to specify the number of folds.\n",
        "          - An object to be used as a cross-validation generator.\n",
        "          - An iterable yielding train/test splits.\n",
        "\n",
        "        Refer :ref:`User Guide <cross_validation>` for the various\n",
        "        cross-validators that can be used here.\n",
        "\n",
        "    n_jobs : int or None, optional (default=None)\n",
        "        Number of jobs to run in parallel.\n",
        "        ``None`` means 1 unless in a :obj:`joblib.parallel_backend` context.\n",
        "        ``-1`` means using all processors. See :term:`Glossary <n_jobs>`\n",
        "        for more details.\n",
        "\n",
        "    train_sizes : array-like, shape (n_ticks,), dtype float or int\n",
        "        Relative or absolute numbers of training examples that will be used to\n",
        "        generate the learning curve. If the dtype is float, it is regarded as a\n",
        "        fraction of the maximum size of the training set (that is determined\n",
        "        by the selected validation method), i.e. it has to be within (0, 1].\n",
        "        Otherwise it is interpreted as absolute sizes of the training sets.\n",
        "        Note that for classification the number of samples usually has to\n",
        "        be big enough to contain at least one sample from each class.\n",
        "        (default: np.linspace(0.1, 1.0, 5))\n",
        "    \"\"\"\n",
        "    plt.figure()\n",
        "    plt.title(title)\n",
        "    if ylim is not None:\n",
        "        plt.ylim(*ylim)\n",
        "    plt.xlabel(\"Training examples\")\n",
        "    plt.ylabel(\"Score\")\n",
        "    train_sizes, train_scores, test_scores = learning_curve(\n",
        "        estimator, X_train, y_train, cv=cv, n_jobs=n_jobs, train_sizes=train_sizes)\n",
        "    train_scores_mean = np.mean(train_scores, axis=1)\n",
        "    train_scores_std = np.std(train_scores, axis=1)\n",
        "    test_scores_mean = np.mean(test_scores, axis=1)\n",
        "    test_scores_std = np.std(test_scores, axis=1)\n",
        "    plt.grid()\n",
        "\n",
        "    plt.fill_between(train_sizes, train_scores_mean - train_scores_std,\n",
        "                     train_scores_mean + train_scores_std, alpha=0.1,\n",
        "                     color=\"r\")\n",
        "    plt.fill_between(train_sizes, test_scores_mean - test_scores_std,\n",
        "                     test_scores_mean + test_scores_std, alpha=0.1, color=\"g\")\n",
        "    plt.plot(train_sizes, train_scores_mean, 'o-', color=\"r\",\n",
        "             label=\"Training score\")\n",
        "    plt.plot(train_sizes, test_scores_mean, 'o-', color=\"g\",\n",
        "             label=\"Cross-validation score\")\n",
        "\n",
        "    plt.legend(loc=\"best\")\n",
        "    return plt\n"
      ]
    },
    {
      "cell_type": "markdown",
      "metadata": {
        "id": "bJeNb4B7oena"
      },
      "source": [
        "**Logistic Regression:**"
      ]
    },
    {
      "cell_type": "code",
      "execution_count": 10,
      "metadata": {
        "id": "PrDChk_roib_"
      },
      "outputs": [],
      "source": [
        "logistic_regression = LogisticRegression(multi_class = 'auto',\n",
        "                                         solver = 'newton-cg',\n",
        "                                         penalty = 'l2',\n",
        "                                         C = 6)\n",
        "\n",
        "logistic_regression = logistic_regression.fit(X_train, y_train)"
      ]
    },
    {
      "cell_type": "code",
      "execution_count": 11,
      "metadata": {
        "colab": {
          "base_uri": "https://localhost:8080/"
        },
        "id": "5hELcuJgpdqe",
        "outputId": "b06d6297-e6d4-4115-8cee-5e862e85d0ea"
      },
      "outputs": [
        {
          "output_type": "stream",
          "name": "stdout",
          "text": [
            "Accuracy Score for Train Data:  0.9449305555555556\n",
            "Accuracy Score for Validation Data:  0.8644444444444445\n"
          ]
        }
      ],
      "source": [
        "validation_predictions = logistic_regression.predict(X_validation)\n",
        "train_predictions = logistic_regression.predict(X_train)\n",
        "\n",
        "validation_accuracy = accuracy_score(y_validation, validation_predictions)\n",
        "train_accuracy = accuracy_score(y_train, train_predictions)\n",
        "\n",
        "print(\"Accuracy Score for Train Data: \", train_accuracy)\n",
        "print(\"Accuracy Score for Validation Data: \", validation_accuracy)"
      ]
    },
    {
      "cell_type": "markdown",
      "source": [
        "**Learning Curve**"
      ],
      "metadata": {
        "id": "uzbCrmDmrIBK"
      }
    },
    {
      "cell_type": "code",
      "execution_count": 12,
      "metadata": {
        "id": "uKzmo1CSQBXw",
        "colab": {
          "base_uri": "https://localhost:8080/",
          "height": 527
        },
        "outputId": "5d077e12-db7e-455b-852e-62ac1471e506"
      },
      "outputs": [
        {
          "output_type": "stream",
          "name": "stderr",
          "text": [
            "/usr/local/lib/python3.10/dist-packages/joblib/externals/loky/backend/fork_exec.py:38: RuntimeWarning: os.fork() was called. os.fork() is incompatible with multithreaded code, and JAX is multithreaded, so this will likely lead to a deadlock.\n",
            "  pid = os.fork()\n"
          ]
        },
        {
          "output_type": "display_data",
          "data": {
            "text/plain": [
              "<Figure size 640x480 with 1 Axes>"
            ],
            "image/png": "[encoded data removed]"
          },
          "metadata": {}
        }
      ],
      "source": [
        "title = \"Learning Curve (Logistic Regression)\"\n",
        "plot_learning_curve(logistic_regression, title, X_train, y_train,\n",
        "                    X_validation, y_validation, cv=5, n_jobs=-1)\n",
        "plt.show()"
      ]
    },
    {
      "cell_type": "markdown",
      "metadata": {
        "id": "6CkhMIr0Rvug"
      },
      "source": [
        "**Model Performance on Test Data**"
      ]
    },
    {
      "cell_type": "code",
      "execution_count": 13,
      "metadata": {
        "colab": {
          "base_uri": "https://localhost:8080/"
        },
        "id": "wnTMj-duRg2x",
        "outputId": "f27f9bce-dbe3-402c-8caa-d0030c5477d8"
      },
      "outputs": [
        {
          "output_type": "stream",
          "name": "stdout",
          "text": [
            "Accuracy Score for Test Data:  0.8686666666666667\n"
          ]
        }
      ],
      "source": [
        "test_predictions = logistic_regression.predict(X_test)\n",
        "\n",
        "test_accuracy = accuracy_score(y_test, test_predictions)\n",
        "\n",
        "print(\"Accuracy Score for Test Data: \", test_accuracy)"
      ]
    },
    {
      "cell_type": "markdown",
      "source": [
        "**Confusion Matrix**"
      ],
      "metadata": {
        "id": "Hl6pEI1LrMXt"
      }
    },
    {
      "cell_type": "code",
      "source": [
        "test_predictions = logistic_regression.predict(X_test)\n",
        "\n",
        "cm = confusion_matrix(y_test, test_predictions)\n",
        "\n",
        "class_names = ['Neoplasms', 'Digestive System Diseases', 'Nervous System Diseases', 'Cardiovascular Diseases', 'General Pathological Conditions']\n",
        "plt.figure(figsize=(10,7))\n",
        "sns.heatmap(cm, annot=True, fmt=\"d\", cmap=\"Blues\", xticklabels=class_names, yticklabels=class_names)\n",
        "plt.title('Confusion Matrix')\n",
        "plt.ylabel('True Label')\n",
        "plt.xlabel('Predicted Label')\n",
        "plt.show()"
      ],
      "metadata": {
        "colab": {
          "base_uri": "https://localhost:8080/",
          "height": 848
        },
        "id": "6Nmc7GC20URU",
        "outputId": "2f722f0c-e0fa-48d3-aa08-c272c4e0f3c6"
      },
      "execution_count": 14,
      "outputs": [
        {
          "output_type": "display_data",
          "data": {
            "text/plain": [
              "<Figure size 1000x700 with 2 Axes>"
            ],
            "image/png": "[encoded data removed]"
          },
          "metadata": {}
        }
      ]
    },
    {
      "cell_type": "markdown",
      "source": [
        "**Classification Report**"
      ],
      "metadata": {
        "id": "bPvJzc0YrPpi"
      }
    },
    {
      "cell_type": "code",
      "source": [
        "report = classification_report(test_predictions, y_test)\n",
        "print(report)"
      ],
      "metadata": {
        "colab": {
          "base_uri": "https://localhost:8080/"
        },
        "id": "0Fo_yaLBJxwe",
        "outputId": "062ba88c-5b4a-49fd-ddeb-8a432d5814c5"
      },
      "execution_count": 15,
      "outputs": [
        {
          "output_type": "stream",
          "name": "stdout",
          "text": [
            "              precision    recall  f1-score   support\n",
            "\n",
            "           1       0.90      0.88      0.89      1850\n",
            "           2       0.92      0.88      0.90      1808\n",
            "           3       0.91      0.87      0.89      1912\n",
            "           4       0.89      0.88      0.89      1867\n",
            "           5       0.72      0.82      0.76      1563\n",
            "\n",
            "    accuracy                           0.87      9000\n",
            "   macro avg       0.87      0.87      0.87      9000\n",
            "weighted avg       0.87      0.87      0.87      9000\n",
            "\n"
          ]
        }
      ]
    },
    {
      "cell_type": "markdown",
      "metadata": {
        "id": "2lLt45BtRip9"
      },
      "source": [
        "**Support Vector Machine**"
      ]
    },
    {
      "cell_type": "code",
      "execution_count": null,
      "metadata": {
        "id": "Gs7JOAGIgf4p"
      },
      "outputs": [],
      "source": [
        "svc = SVC(kernel = 'linear', C = 1.0)\n",
        "svc.fit(X_train, y_train)\n",
        "\n",
        "svc_predictions = svc.predict(X_validation)\n",
        "train_predictions = svc.predict(X_train)\n",
        "\n",
        "validation_accuracy = accuracy_score(y_validation, svc_predictions)\n",
        "train_accuracy = accuracy_score(y_train, train_predictions)\n",
        "\n",
        "print(\"Accuracy Score for Train Data: \",train_accuracy)\n",
        "print(\"Accuracy Score for Validation Data: \",validation_accuracy)"
      ]
    },
    {
      "cell_type": "markdown",
      "source": [
        "**Hyper Parameter Tuning**"
      ],
      "metadata": {
        "id": "0oUbmbHHrVhe"
      }
    },
    {
      "cell_type": "code",
      "execution_count": null,
      "metadata": {
        "id": "quuCkKrAgWWc"
      },
      "outputs": [],
      "source": [
        "parameters = {\n",
        "    'kernel' : ['sigmoid', 'linear','poly'],\n",
        "    'C' : [0.1, 1, 3, 5,10],\n",
        "    'gamma' : [0.1, 0.3, 0.9],\n",
        "    'class_weight' : ['balanced']\n",
        "}\n",
        "\n",
        "grid_search = GridSearchCV(svc, parameters, cv = 5, scoring = 'accuracy')\n",
        "grid_search.fit(X_train, y_train)\n",
        "\n",
        "best_svm  = grid_search.best_estimator_\n",
        "validation_accuracy = best_svm.score(X_validation, y_validation)"
      ]
    },
    {
      "cell_type": "code",
      "execution_count": null,
      "metadata": {
        "id": "5cYe3_oKhEbc"
      },
      "outputs": [],
      "source": [
        "print(best_svm)\n",
        "print(validation_accuracy)"
      ]
    },
    {
      "cell_type": "markdown",
      "source": [
        "**Learning Curve**\n"
      ],
      "metadata": {
        "id": "GP1LMQBBN9DY"
      }
    },
    {
      "cell_type": "code",
      "execution_count": null,
      "metadata": {
        "id": "jk22tqZzQgIt",
        "colab": {
          "base_uri": "https://localhost:8080/"
        },
        "outputId": "2f7fc7bb-7f42-438b-ee1b-b5bad8f08d34"
      },
      "outputs": [
        {
          "output_type": "stream",
          "name": "stderr",
          "text": [
            "/usr/local/lib/python3.10/dist-packages/joblib/externals/loky/backend/fork_exec.py:38: RuntimeWarning: os.fork() was called. os.fork() is incompatible with multithreaded code, and JAX is multithreaded, so this will likely lead to a deadlock.\n",
            "  pid = os.fork()\n"
          ]
        }
      ],
      "source": [
        "title = \"Learning Curve (Support Vector Machine)\"\n",
        "\n",
        "plot_learning_curve(svc, title, X_train, y_train,\n",
        "                    X_validation, y_validation, cv=5, n_jobs=-1)\n",
        "\n",
        "plt.show()"
      ]
    },
    {
      "cell_type": "markdown",
      "metadata": {
        "id": "SFhBOza5RpPT"
      },
      "source": [
        "**Best Model Performance on Test Data**"
      ]
    },
    {
      "cell_type": "code",
      "execution_count": null,
      "metadata": {
        "id": "OsZX3s6qRoKb",
        "colab": {
          "base_uri": "https://localhost:8080/"
        },
        "outputId": "fb57a479-506c-463f-afae-a30d6f68c094"
      },
      "outputs": [
        {
          "output_type": "stream",
          "name": "stdout",
          "text": [
            "Accuracy Score for Test Data:  0.8744444444444445\n"
          ]
        }
      ],
      "source": [
        "# Fitting Support Vector Machine with the best parameters\n",
        "svc = SVC(kernel = 'linear', C = 10)\n",
        "\n",
        "svc.fit(X_train, y_train)\n",
        "\n",
        "test_predictions = svc.predict(X_test)\n",
        "\n",
        "test_accuracy = accuracy_score(y_test, test_predictions)\n",
        "\n",
        "print(\"Accuracy Score for Test Data: \", test_accuracy)"
      ]
    },
    {
      "cell_type": "markdown",
      "source": [
        "**Confusion Matrix**"
      ],
      "metadata": {
        "id": "ahDwqm6PriV0"
      }
    },
    {
      "cell_type": "code",
      "source": [
        "cm = confusion_matrix(y_test, test_predictions)\n",
        "\n",
        "class_names = ['Neoplasms', 'Digestive System Diseases', 'Nervous System Diseases', 'Cardiovascular Diseases', 'General Pathological Conditions']\n",
        "\n",
        "plt.figure(figsize=(10,7))\n",
        "sns.heatmap(cm, annot=True, fmt=\"d\", cmap=\"Blues\", xticklabels=class_names, yticklabels=class_names)\n",
        "plt.title('Confusion Matrix')\n",
        "plt.ylabel('True Label')\n",
        "plt.xlabel('Predicted Label')\n",
        "plt.show()"
      ],
      "metadata": {
        "colab": {
          "base_uri": "https://localhost:8080/",
          "height": 848
        },
        "id": "S-P8PxRuW20M",
        "outputId": "89563ad6-3227-490a-aacc-37524298edae"
      },
      "execution_count": null,
      "outputs": [
        {
          "output_type": "display_data",
          "data": {
            "text/plain": [
              "<Figure size 1000x700 with 2 Axes>"
            ],
            "image/png": "[encoded data removed]"
          },
          "metadata": {}
        }
      ]
    },
    {
      "cell_type": "markdown",
      "source": [
        "**Classification Report**"
      ],
      "metadata": {
        "id": "YXNGDIchrkRF"
      }
    },
    {
      "cell_type": "code",
      "source": [
        "report = classification_report(test_predictions, y_test)\n",
        "print(report)"
      ],
      "metadata": {
        "colab": {
          "base_uri": "https://localhost:8080/"
        },
        "id": "XUtjuyDTXDt9",
        "outputId": "cf5ac09e-1dc9-4721-b9c0-8b7a038cfd25"
      },
      "execution_count": null,
      "outputs": [
        {
          "output_type": "stream",
          "name": "stdout",
          "text": [
            "              precision    recall  f1-score   support\n",
            "\n",
            "           1       0.90      0.90      0.90      1774\n",
            "           2       0.94      0.88      0.91      1952\n",
            "           3       0.91      0.86      0.89      1805\n",
            "           4       0.90      0.90      0.90      1835\n",
            "           5       0.73      0.83      0.78      1634\n",
            "\n",
            "    accuracy                           0.87      9000\n",
            "   macro avg       0.88      0.87      0.87      9000\n",
            "weighted avg       0.88      0.87      0.88      9000\n",
            "\n"
          ]
        }
      ]
    },
    {
      "cell_type": "markdown",
      "metadata": {
        "id": "HNH1aga07Nng"
      },
      "source": [
        "**XGBOOST**"
      ]
    },
    {
      "cell_type": "code",
      "source": [
        "y_train = y_train - 1\n",
        "y_validation = y_validation - 1\n",
        "y_test = y_test - 1"
      ],
      "metadata": {
        "id": "5NzjKqhsCvCw"
      },
      "execution_count": 17,
      "outputs": []
    },
    {
      "cell_type": "code",
      "execution_count": null,
      "metadata": {
        "id": "hRJOnloKSp_q",
        "colab": {
          "base_uri": "https://localhost:8080/",
          "height": 248
        },
        "outputId": "d3160af5-390e-4be8-a5ec-a9bcabad20da"
      },
      "outputs": [
        {
          "output_type": "execute_result",
          "data": {
            "text/plain": [
              "XGBClassifier(base_score=None, booster=None, callbacks=None,\n",
              "              colsample_bylevel=None, colsample_bynode=None,\n",
              "              colsample_bytree=0.8, device=None, early_stopping_rounds=None,\n",
              "              enable_categorical=False, eta=0.3, eval_metric=None,\n",
              "              feature_types=None, gamma=0, grow_policy=None,\n",
              "              importance_type=None, interaction_constraints=None,\n",
              "              learning_rate=None, max_bin=None, max_cat_threshold=None,\n",
              "              max_cat_to_onehot=None, max_delta_step=None, max_depth=5,\n",
              "              max_leaves=None, min_child_weight=1, missing=nan,\n",
              "              monotone_constraints=None, multi_strategy=None, n_estimators=None,\n",
              "              n_jobs=None, num_class=5, ...)"
            ],
            "text/html": [
              "<style>#sk-container-id-1 {color: black;background-color: white;}#sk-container-id-1 pre{padding: 0;}#sk-container-id-1 div.sk-toggleable {background-color: white;}#sk-container-id-1 label.sk-toggleable__label {cursor: pointer;display: block;width: 100%;margin-bottom: 0;padding: 0.3em;box-sizing: border-box;text-align: center;}#sk-container-id-1 label.sk-toggleable__label-arrow:before {content: \"▸\";float: left;margin-right: 0.25em;color: #696969;}#sk-container-id-1 label.sk-toggleable__label-arrow:hover:before {color: black;}#sk-container-id-1 div.sk-estimator:hover label.sk-toggleable__label-arrow:before {color: black;}#sk-container-id-1 div.sk-toggleable__content {max-height: 0;max-width: 0;overflow: hidden;text-align: left;background-color: #f0f8ff;}#sk-container-id-1 div.sk-toggleable__content pre {margin: 0.2em;color: black;border-radius: 0.25em;background-color: #f0f8ff;}#sk-container-id-1 input.sk-toggleable__control:checked~div.sk-toggleable__content {max-height: 200px;max-width: 100%;overflow: auto;}#sk-container-id-1 input.sk-toggleable__control:checked~label.sk-toggleable__label-arrow:before {content: \"▾\";}#sk-container-id-1 div.sk-estimator input.sk-toggleable__control:checked~label.sk-toggleable__label {background-color: #d4ebff;}#sk-container-id-1 div.sk-label input.sk-toggleable__control:checked~label.sk-toggleable__label {background-color: #d4ebff;}#sk-container-id-1 input.sk-hidden--visually {border: 0;clip: rect(1px 1px 1px 1px);clip: rect(1px, 1px, 1px, 1px);height: 1px;margin: -1px;overflow: hidden;padding: 0;position: absolute;width: 1px;}#sk-container-id-1 div.sk-estimator {font-family: monospace;background-color: #f0f8ff;border: 1px dotted black;border-radius: 0.25em;box-sizing: border-box;margin-bottom: 0.5em;}#sk-container-id-1 div.sk-estimator:hover {background-color: #d4ebff;}#sk-container-id-1 div.sk-parallel-item::after {content: \"\";width: 100%;border-bottom: 1px solid gray;flex-grow: 1;}#sk-container-id-1 div.sk-label:hover label.sk-toggleable__label {background-color: #d4ebff;}#sk-container-id-1 div.sk-serial::before {content: \"\";position: absolute;border-left: 1px solid gray;box-sizing: border-box;top: 0;bottom: 0;left: 50%;z-index: 0;}#sk-container-id-1 div.sk-serial {display: flex;flex-direction: column;align-items: center;background-color: white;padding-right: 0.2em;padding-left: 0.2em;position: relative;}#sk-container-id-1 div.sk-item {position: relative;z-index: 1;}#sk-container-id-1 div.sk-parallel {display: flex;align-items: stretch;justify-content: center;background-color: white;position: relative;}#sk-container-id-1 div.sk-item::before, #sk-container-id-1 div.sk-parallel-item::before {content: \"\";position: absolute;border-left: 1px solid gray;box-sizing: border-box;top: 0;bottom: 0;left: 50%;z-index: -1;}#sk-container-id-1 div.sk-parallel-item {display: flex;flex-direction: column;z-index: 1;position: relative;background-color: white;}#sk-container-id-1 div.sk-parallel-item:first-child::after {align-self: flex-end;width: 50%;}#sk-container-id-1 div.sk-parallel-item:last-child::after {align-self: flex-start;width: 50%;}#sk-container-id-1 div.sk-parallel-item:only-child::after {width: 0;}#sk-container-id-1 div.sk-dashed-wrapped {border: 1px dashed gray;margin: 0 0.4em 0.5em 0.4em;box-sizing: border-box;padding-bottom: 0.4em;background-color: white;}#sk-container-id-1 div.sk-label label {font-family: monospace;font-weight: bold;display: inline-block;line-height: 1.2em;}#sk-container-id-1 div.sk-label-container {text-align: center;}#sk-container-id-1 div.sk-container {/* jupyter's `normalize.less` sets `[hidden] { display: none; }` but bootstrap.min.css set `[hidden] { display: none !important; }` so we also need the `!important` here to be able to override the default hidden behavior on the sphinx rendered scikit-learn.org. See: https://github.com/scikit-learn/scikit-learn/issues/21755 */display: inline-block !important;position: relative;}#sk-container-id-1 div.sk-text-repr-fallback {display: none;}</style><div id=\"sk-container-id-1\" class=\"sk-top-container\"><div class=\"sk-text-repr-fallback\"><pre>XGBClassifier(base_score=None, booster=None, callbacks=None,\n",
              "              colsample_bylevel=None, colsample_bynode=None,\n",
              "              colsample_bytree=0.8, device=None, early_stopping_rounds=None,\n",
              "              enable_categorical=False, eta=0.3, eval_metric=None,\n",
              "              feature_types=None, gamma=0, grow_policy=None,\n",
              "              importance_type=None, interaction_constraints=None,\n",
              "              learning_rate=None, max_bin=None, max_cat_threshold=None,\n",
              "              max_cat_to_onehot=None, max_delta_step=None, max_depth=5,\n",
              "              max_leaves=None, min_child_weight=1, missing=nan,\n",
              "              monotone_constraints=None, multi_strategy=None, n_estimators=None,\n",
              "              n_jobs=None, num_class=5, ...)</pre><b>In a Jupyter environment, please rerun this cell to show the HTML representation or trust the notebook. <br />On GitHub, the HTML representation is unable to render, please try loading this page with nbviewer.org.</b></div><div class=\"sk-container\" hidden><div class=\"sk-item\"><div class=\"sk-estimator sk-toggleable\"><input class=\"sk-toggleable__control sk-hidden--visually\" id=\"sk-estimator-id-1\" type=\"checkbox\" checked><label for=\"sk-estimator-id-1\" class=\"sk-toggleable__label sk-toggleable__label-arrow\">XGBClassifier</label><div class=\"sk-toggleable__content\"><pre>XGBClassifier(base_score=None, booster=None, callbacks=None,\n",
              "              colsample_bylevel=None, colsample_bynode=None,\n",
              "              colsample_bytree=0.8, device=None, early_stopping_rounds=None,\n",
              "              enable_categorical=False, eta=0.3, eval_metric=None,\n",
              "              feature_types=None, gamma=0, grow_policy=None,\n",
              "              importance_type=None, interaction_constraints=None,\n",
              "              learning_rate=None, max_bin=None, max_cat_threshold=None,\n",
              "              max_cat_to_onehot=None, max_delta_step=None, max_depth=5,\n",
              "              max_leaves=None, min_child_weight=1, missing=nan,\n",
              "              monotone_constraints=None, multi_strategy=None, n_estimators=None,\n",
              "              n_jobs=None, num_class=5, ...)</pre></div></div></div></div></div>"
            ]
          },
          "metadata": {},
          "execution_count": 11
        }
      ],
      "source": [
        "xgb_classifier = xgb.XGBClassifier(\n",
        "    objective = 'multi-softmax',\n",
        "    num_class = len(set(y_train)),\n",
        "    seed = 42,\n",
        "    max_depth = 5,\n",
        "    min_child_weight = 1,\n",
        "    gamma = 0,\n",
        "    subsample = 0.8,\n",
        "    colsample_bytree = 0.8,\n",
        "    eta = 0.3\n",
        ")\n",
        "\n",
        "xgb_classifier.fit(X_train, y_train)"
      ]
    },
    {
      "cell_type": "code",
      "execution_count": null,
      "metadata": {
        "id": "qVuh9S5GYBSa",
        "colab": {
          "base_uri": "https://localhost:8080/"
        },
        "outputId": "11cba4d4-e89d-4a47-fe23-c364387258a9"
      },
      "outputs": [
        {
          "output_type": "stream",
          "name": "stdout",
          "text": [
            "Accuracy Score for Train Data:  0.9155555555555556\n",
            "Accuracy Score for Validation Data:  0.8309722222222222\n"
          ]
        }
      ],
      "source": [
        "y_train_pred = xgb_classifier.predict(X_train)\n",
        "y_validation_pred = xgb_classifier.predict(X_validation)\n",
        "\n",
        "train_accuracy = accuracy_score(y_train, y_train_pred)\n",
        "validation_accuracy = accuracy_score(y_validation, y_validation_pred)\n",
        "\n",
        "print(\"Accuracy Score for Train Data: \", train_accuracy)\n",
        "print(\"Accuracy Score for Validation Data: \", validation_accuracy)"
      ]
    },
    {
      "cell_type": "markdown",
      "metadata": {
        "id": "Uwn4_-lDSOIo"
      },
      "source": [
        "**Learning Curve**"
      ]
    },
    {
      "cell_type": "code",
      "execution_count": null,
      "metadata": {
        "id": "h62RxIA9Q1BP"
      },
      "outputs": [],
      "source": [
        "title = \"Learning Curve (Xgboost)\"\n",
        "plot_learning_curve(xgb_classifier, title, X_train, y_train,\n",
        "                    X_validation, y_validation, cv=5, n_jobs=-1)\n",
        "plt.show()"
      ]
    },
    {
      "cell_type": "markdown",
      "source": [
        "![XGBOOST Learning Curve.png](data:image/png;base64,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)"
      ],
      "metadata": {
        "id": "unBzPCyMJfhk"
      }
    },
    {
      "cell_type": "markdown",
      "metadata": {
        "id": "8EX14FoRSQUy"
      },
      "source": [
        "**Hyper-Parameter Tuning**"
      ]
    },
    {
      "cell_type": "code",
      "execution_count": null,
      "metadata": {
        "id": "0EtxqngLSSgg",
        "colab": {
          "base_uri": "https://localhost:8080/"
        },
        "outputId": "d40e502e-82e3-44f6-c521-6a134b611f49"
      },
      "outputs": [
        {
          "output_type": "stream",
          "name": "stderr",
          "text": [
            "/usr/local/lib/python3.10/dist-packages/joblib/externals/loky/backend/fork_exec.py:38: RuntimeWarning: os.fork() was called. os.fork() is incompatible with multithreaded code, and JAX is multithreaded, so this will likely lead to a deadlock.\n",
            "  pid = os.fork()\n"
          ]
        }
      ],
      "source": [
        "# Parameter grid for grid search\n",
        "param_grid = {\n",
        "    'max_depth': [3, 5, 7],\n",
        "    'min_child_weight': [1, 3, 5],\n",
        "    'gamma': [0, 0.1, 0.2],\n",
        "    'subsample': [0.6, 0.8, 1.0],\n",
        "    'colsample_bytree': [0.6, 0.8, 1.0],\n",
        "    'eta': [0.1, 0.2, 0.3]\n",
        "}\n",
        "\n",
        "# Perform grid search\n",
        "grid_search = GridSearchCV(estimator=xgb_classifier, param_grid=param_grid, cv=3, n_jobs=-1)\n",
        "grid_search.fit(X_train, y_train)\n",
        "\n",
        "# Best parameters and best score\n",
        "print(\"Best parameters found: \", grid_search.best_params_)\n",
        "print(\"Best accuracy score found: \", grid_search.best_score_)"
      ]
    },
    {
      "cell_type": "markdown",
      "source": [
        "**Best Model Performance on Test Data**"
      ],
      "metadata": {
        "id": "AxNCecCHybPX"
      }
    },
    {
      "cell_type": "code",
      "source": [
        "xgb_classifier = xgb.XGBClassifier(\n",
        "    colsample_bytree = 0.8,\n",
        "    eta = 1.0,\n",
        "    gamma = 0.1,\n",
        "    max_depth = 5,\n",
        "    min_child_weight = 3,\n",
        "    subsample = 0.8\n",
        ")\n",
        "\n",
        "xgb_classifier.fit(X_train, y_train)\n",
        "\n",
        "test_predictions = xgb_classifier.predict(X_test)\n",
        "print(\"Accuracy Score on Test Data: \", accuracy_score(y_test, test_predictions))"
      ],
      "metadata": {
        "id": "jcPTTNRMyagR"
      },
      "execution_count": 18,
      "outputs": []
    },
    {
      "cell_type": "markdown",
      "source": [
        "**Confusion Matrix**"
      ],
      "metadata": {
        "id": "xhJ2Nws8cxjr"
      }
    },
    {
      "cell_type": "code",
      "source": [
        "cm = confusion_matrix(y_test, test_predictions)\n",
        "class_names = ['Neoplasms', 'Digestive System Diseases', 'Nervous System Diseases', 'Cardiovascular Diseases', 'General Pathological Conditions']\n",
        "plt.figure(figsize=(10,7))\n",
        "sns.heatmap(cm, annot=True, fmt=\"d\", cmap=\"Blues\", xticklabels=class_names, yticklabels=class_names)\n",
        "plt.title('Confusion Matrix')\n",
        "plt.ylabel('True Label')\n",
        "plt.xlabel('Predicted Label')\n",
        "plt.show()"
      ],
      "metadata": {
        "id": "BHiFonCJczsE",
        "colab": {
          "base_uri": "https://localhost:8080/",
          "height": 848
        },
        "outputId": "3d86c4c5-07b9-42c8-cd81-5d41db8aab89"
      },
      "execution_count": 19,
      "outputs": [
        {
          "output_type": "display_data",
          "data": {
            "text/plain": [
              "<Figure size 1000x700 with 2 Axes>"
            ],
            "image/png": "[encoded data removed]"
          },
          "metadata": {}
        }
      ]
    },
    {
      "cell_type": "markdown",
      "source": [
        "**Classification Report**"
      ],
      "metadata": {
        "id": "yhf1T2glrx9o"
      }
    },
    {
      "cell_type": "code",
      "source": [
        "class_names = ['Neoplasms', 'Digestive System Diseases', 'Nervous System Diseases', 'Cardiovascular Diseases', 'General Pathological Conditions']\n",
        "\n",
        "report = classification_report(y_test, test_predictions, target_names=class_names)\n",
        "\n",
        "print(\"Classification Report:\\n\", report)"
      ],
      "metadata": {
        "id": "jryLa-ulrwyu",
        "colab": {
          "base_uri": "https://localhost:8080/"
        },
        "outputId": "910fac64-26e9-4b95-9147-fb631cbbb349"
      },
      "execution_count": 21,
      "outputs": [
        {
          "output_type": "stream",
          "name": "stdout",
          "text": [
            "Classification Report:\n",
            "                                  precision    recall  f1-score   support\n",
            "\n",
            "                      Neoplasms       0.87      0.89      0.88      1823\n",
            "      Digestive System Diseases       0.87      0.89      0.88      1724\n",
            "        Nervous System Diseases       0.85      0.87      0.86      1827\n",
            "        Cardiovascular Diseases       0.87      0.87      0.87      1854\n",
            "General Pathological Conditions       0.73      0.68      0.70      1772\n",
            "\n",
            "                       accuracy                           0.84      9000\n",
            "                      macro avg       0.84      0.84      0.84      9000\n",
            "                   weighted avg       0.84      0.84      0.84      9000\n",
            "\n"
          ]
        }
      ]
    },
    {
      "cell_type": "markdown",
      "metadata": {
        "id": "wq9T8dxTURxd"
      },
      "source": [
        "**Transformers using BERT:**"
      ]
    },
    {
      "cell_type": "code",
      "source": [
        "new_data = pd.read_csv('/content/new_data.csv')"
      ],
      "metadata": {
        "id": "smgIjS_5SpTC"
      },
      "execution_count": null,
      "outputs": []
    },
    {
      "cell_type": "code",
      "execution_count": null,
      "metadata": {
        "id": "cO-o0qemUXJr"
      },
      "outputs": [],
      "source": [
        "# Converting medical abstracts and condition labels to lists.\n",
        "records = new_data['medical_abstract'].tolist()\n",
        "labels = new_data['condition_label'].tolist()"
      ]
    },
    {
      "cell_type": "code",
      "execution_count": null,
      "metadata": {
        "id": "DiCA3UMmUYz6"
      },
      "outputs": [],
      "source": [
        "# Splitting the data into training, testing and validation sets.\n",
        "# 60% for Training set, 20% for Testing set and 20% for Validation set.\n",
        "train_records, test_records, train_labels, test_labels = train_test_split(records,\n",
        "                                                                          labels,\n",
        "                                                                          test_size = 0.2,\n",
        "                                                                          random_state = 42)\n",
        "\n",
        "train_records, validation_records, train_labels, validation_labels = train_test_split(train_records,\n",
        "                                                                                      train_labels,\n",
        "                                                                                      test_size= 0.2,\n",
        "                                                                                      random_state= 42)"
      ]
    },
    {
      "cell_type": "code",
      "execution_count": null,
      "metadata": {
        "id": "ul_TO1myUaE-",
        "colab": {
          "base_uri": "https://localhost:8080/",
          "height": 217,
          "referenced_widgets": [
            "1f455446b8ae44b791146867338b4e40",
            "d1eca58eccfa4730a066b0a317d3618c",
            "924c9ba80f30410b9c25678096980e3b",
            "cdf4cee7e30948a7b48d382449be0a44",
            "0881ca946dc7400ebbf36c0c6b6c2d06",
            "21bda886fe9946e084b148d06d6bce12",
            "4dd49af8043c4f7cb48a01cfe462cd59",
            "15dda80750ae46228202ae98c104e441",
            "24e3e70e2dc6403ea80246398460ece0",
            "c80b19a520ea4875a089198faa2e1e2d",
            "d53c35daf1db449c8788c8bef59a014b",
            "5f9b496a8d384b16a5696118efe38ecc",
            "82efec15a32942b69a321d1dbebf9a2c",
            "0198248b68f24508b989f8c63328cebe",
            "d834a90b5e0048f2a2ecf43e32fafb55",
            "10e63b7070bf4ec1865881a963fba578",
            "9f1f5aa9f6454e0d837f6a9692ac5998",
            "73e4b409530b469dba83aaedf5a11d2c",
            "afdd2353579c445dba66843e92c169c7",
            "6e6618d9825347e2a68a1b98883f873a",
            "b709d71da19e42f4ba3ac1914b7c5407",
            "21945a765f0f40748a6ad31fbbf06eae",
            "21f6b4c76aec4bee8d2a86d34e77042f",
            "9fa658e47fbc40bb99dd53bf2fdd40c4",
            "e70627d15134471883c0adea1cdd5b23",
            "35892f13622a4efca9a92c3ab018581e",
            "160ebb4e77bd4751bea695dccfd44cb0",
            "d9edd2ddb1a14d7fbe20caad51985cc5",
            "d0dbf7877d07497c80a437ea4c66baf8",
            "d8f3782cd25941b9adf3f6447022799b",
            "b23e78b1f8df4beb96f991113bc442ed",
            "333e3b64146342559f8a9e62166602ed",
            "aee75d75b00047b08bdf0ced5f0f2c68"
          ]
        },
        "outputId": "9d13305c-9954-4f96-9d1e-78cc8050e560"
      },
      "outputs": [
        {
          "output_type": "stream",
          "name": "stderr",
          "text": [
            "/usr/local/lib/python3.10/dist-packages/huggingface_hub/utils/_token.py:89: UserWarning: \n",
            "The secret `HF_TOKEN` does not exist in your Colab secrets.\n",
            "To authenticate with the Hugging Face Hub, create a token in your settings tab (https://huggingface.co/settings/tokens), set it as secret in your Google Colab and restart your session.\n",
            "You will be able to reuse this secret in all of your notebooks.\n",
            "Please note that authentication is recommended but still optional to access public models or datasets.\n",
            "  warnings.warn(\n"
          ]
        },
        {
          "output_type": "display_data",
          "data": {
            "text/plain": [
              "tokenizer_config.json:   0%|          | 0.00/28.0 [00:00<?, ?B/s]"
            ],
            "application/vnd.jupyter.widget-view+json": {
              "version_major": 2,
              "version_minor": 0,
              "model_id": "1f455446b8ae44b791146867338b4e40"
            }
          },
          "metadata": {}
        },
        {
          "output_type": "display_data",
          "data": {
            "text/plain": [
              "vocab.txt:   0%|          | 0.00/225k [00:00<?, ?B/s]"
            ],
            "application/vnd.jupyter.widget-view+json": {
              "version_major": 2,
              "version_minor": 0,
              "model_id": "5f9b496a8d384b16a5696118efe38ecc"
            }
          },
          "metadata": {}
        },
        {
          "output_type": "display_data",
          "data": {
            "text/plain": [
              "config.json:   0%|          | 0.00/385 [00:00<?, ?B/s]"
            ],
            "application/vnd.jupyter.widget-view+json": {
              "version_major": 2,
              "version_minor": 0,
              "model_id": "21f6b4c76aec4bee8d2a86d34e77042f"
            }
          },
          "metadata": {}
        }
      ],
      "source": [
        "# Token initialization with pretrained BERT model specialized for biomedical text.\n",
        "tokenizer = BertTokenizer.from_pretrained('microsoft/BiomedNLP-PubMedBERT-base-uncased-abstract')"
      ]
    },
    {
      "cell_type": "code",
      "execution_count": null,
      "metadata": {
        "id": "q60HtM27Ubdj"
      },
      "outputs": [],
      "source": [
        "# Tokenizing and encoding the data for training, validation and testing.\n",
        "train_encodings = tokenizer(train_records, truncation = True, padding = True, max_length= 512)\n",
        "validation_encodings = tokenizer(validation_records, truncation = True, padding = True, max_length = 512)\n",
        "test_encodings = tokenizer(test_records, truncation = True, padding = True, max_length= 512)"
      ]
    },
    {
      "cell_type": "code",
      "execution_count": null,
      "metadata": {
        "id": "z4yC-jRYUcpz"
      },
      "outputs": [],
      "source": [
        "# Converting labels into tensors and adjusting indices\n",
        "train_labels = torch.tensor(train_labels)\n",
        "test_labels = torch.tensor(test_labels)\n",
        "validation_labels = torch.tensor(validation_labels)\n",
        "\n",
        "train_labels = train_labels - 1\n",
        "test_labels = test_labels - 1\n",
        "validation_labels = validation_labels - 1"
      ]
    },
    {
      "cell_type": "code",
      "execution_count": null,
      "metadata": {
        "id": "cLpzm5svUeT6"
      },
      "outputs": [],
      "source": [
        "# Creating datasets from the tokenized texts and the adjusted labels for use in DataLoader.\n",
        "train_dataset = Dataset.from_dict({\n",
        "    'input_ids': train_encodings['input_ids'],\n",
        "    'attention_mask': train_encodings['attention_mask'],\n",
        "    'labels': train_labels\n",
        "})\n",
        "\n",
        "validation_dataset = Dataset.from_dict({\n",
        "    'input_ids': validation_encodings['input_ids'],\n",
        "    'attention_mask': validation_encodings['attention_mask'],\n",
        "    'labels': validation_labels\n",
        "})\n",
        "\n",
        "test_dataset = Dataset.from_dict({\n",
        "    'input_ids': test_encodings['input_ids'],\n",
        "    'attention_mask': test_encodings['attention_mask'],\n",
        "    'labels': test_labels\n",
        "})"
      ]
    },
    {
      "cell_type": "code",
      "execution_count": null,
      "metadata": {
        "id": "A0Jhz4D4Uf8o"
      },
      "outputs": [],
      "source": [
        "# Setting up DataLoaders to manage batches of data during training and validation.\n",
        "train_loader = DataLoader(train_dataset, batch_size = 16, shuffle = True)\n",
        "test_loader = DataLoader(test_dataset, batch_size = 16, shuffle = False)\n",
        "validation_loader = DataLoader(validation_dataset, batch_size = 16, shuffle = False)"
      ]
    },
    {
      "cell_type": "code",
      "execution_count": null,
      "metadata": {
        "colab": {
          "base_uri": "https://localhost:8080/",
          "height": 84,
          "referenced_widgets": [
            "939b252ba5e845e5a9faba97f36d8d46",
            "1fd3959856cd406e98e53e2a77785873",
            "142b7ac7f6df497d8a192badebc47a06",
            "b2052354788c44fdaa88b29d890c9549",
            "c0588ceaf1374faaa4660cd3311565c7",
            "5c88c89ec579400b98988a25e2c16475",
            "0ac1af50d05d43ada20d75fafec2c060",
            "267a5d02615b4a9eb5afa989f971e444",
            "8a822e28c96f4f7f9e65337000baa63b",
            "f5926f73a31c4b0a9acb874359ba6412",
            "da75a2cb386149dc8cbf5122e7168bfc"
          ]
        },
        "id": "zAXVB7pHUhN3",
        "outputId": "7978224f-77a0-43a9-d36c-ecce909975d0"
      },
      "outputs": [
        {
          "output_type": "display_data",
          "data": {
            "text/plain": [
              "pytorch_model.bin:   0%|          | 0.00/440M [00:00<?, ?B/s]"
            ],
            "application/vnd.jupyter.widget-view+json": {
              "version_major": 2,
              "version_minor": 0,
              "model_id": "939b252ba5e845e5a9faba97f36d8d46"
            }
          },
          "metadata": {}
        },
        {
          "output_type": "stream",
          "name": "stderr",
          "text": [
            "Some weights of BertForSequenceClassification were not initialized from the model checkpoint at microsoft/BiomedNLP-PubMedBERT-base-uncased-abstract and are newly initialized: ['classifier.bias', 'classifier.weight']\n",
            "You should probably TRAIN this model on a down-stream task to be able to use it for predictions and inference.\n"
          ]
        }
      ],
      "source": [
        "# Loading the BERT model for sequence classification, specifying the number of unique labels.\n",
        "model = BertForSequenceClassification.from_pretrained('microsoft/BiomedNLP-PubMedBERT-base-uncased-abstract', num_labels=len(set(new_data['condition_label'])))"
      ]
    },
    {
      "cell_type": "code",
      "execution_count": 3,
      "metadata": {
        "colab": {
          "base_uri": "https://localhost:8080/",
          "height": 176
        },
        "id": "cKwHZDLoUi3p",
        "outputId": "1c3e0148-d366-46c0-db22-6ece0cced6f5"
      },
      "outputs": [
        {
          "output_type": "error",
          "ename": "NameError",
          "evalue": "name 'model' is not defined",
          "traceback": [
            "\u001b[0;31m---------------------------------------------------------------------------\u001b[0m",
            "\u001b[0;31mNameError\u001b[0m                                 Traceback (most recent call last)",
            "\u001b[0;32m<ipython-input-3-0b9e89ae3dbb>\u001b[0m in \u001b[0;36m<cell line: 3>\u001b[0;34m()\u001b[0m\n\u001b[1;32m      1\u001b[0m \u001b[0;31m# Set the device for training (GPU if available).\u001b[0m\u001b[0;34m\u001b[0m\u001b[0;34m\u001b[0m\u001b[0m\n\u001b[1;32m      2\u001b[0m \u001b[0mdevice\u001b[0m \u001b[0;34m=\u001b[0m \u001b[0mtorch\u001b[0m\u001b[0;34m.\u001b[0m\u001b[0mdevice\u001b[0m\u001b[0;34m(\u001b[0m\u001b[0;34m\"cuda\"\u001b[0m \u001b[0;32mif\u001b[0m \u001b[0mtorch\u001b[0m\u001b[0;34m.\u001b[0m\u001b[0mcuda\u001b[0m\u001b[0;34m.\u001b[0m\u001b[0mis_available\u001b[0m\u001b[0;34m(\u001b[0m\u001b[0;34m)\u001b[0m \u001b[0;32melse\u001b[0m \u001b[0;34m\"cpu\"\u001b[0m\u001b[0;34m)\u001b[0m\u001b[0;34m\u001b[0m\u001b[0;34m\u001b[0m\u001b[0m\n\u001b[0;32m----> 3\u001b[0;31m \u001b[0mmodel\u001b[0m\u001b[0;34m.\u001b[0m\u001b[0mto\u001b[0m\u001b[0;34m(\u001b[0m\u001b[0mdevice\u001b[0m\u001b[0;34m)\u001b[0m\u001b[0;34m\u001b[0m\u001b[0;34m\u001b[0m\u001b[0m\n\u001b[0m",
            "\u001b[0;31mNameError\u001b[0m: name 'model' is not defined"
          ]
        }
      ],
      "source": [
        "# Set the device for training (GPU if available).\n",
        "device = torch.device(\"cuda\" if torch.cuda.is_available() else \"cpu\")\n",
        "model.to(device)"
      ]
    },
    {
      "cell_type": "code",
      "source": [
        "# Making sure we're benefiting from the GPU.\n",
        "print(\"Using: \", device)"
      ],
      "metadata": {
        "id": "T6sKBGVEuDB4"
      },
      "execution_count": null,
      "outputs": []
    },
    {
      "cell_type": "code",
      "execution_count": null,
      "metadata": {
        "id": "Zi38ualjUkQS",
        "colab": {
          "base_uri": "https://localhost:8080/"
        },
        "outputId": "fc597f1a-fc5d-4b3e-e870-051733c6d6d3"
      },
      "outputs": [
        {
          "output_type": "stream",
          "name": "stderr",
          "text": [
            "/usr/local/lib/python3.10/dist-packages/transformers/optimization.py:521: FutureWarning: This implementation of AdamW is deprecated and will be removed in a future version. Use the PyTorch implementation torch.optim.AdamW instead, or set `no_deprecation_warning=True` to disable this warning\n",
            "  warnings.warn(\n"
          ]
        }
      ],
      "source": [
        "# Configuring the optimizer.\n",
        "optimizer = AdamW(model.parameters(), lr = 3e-04)"
      ]
    },
    {
      "cell_type": "code",
      "execution_count": null,
      "metadata": {
        "id": "UXiexk50Ul_k"
      },
      "outputs": [],
      "source": [
        "# Defining the training parameters, including directory for outputs, batch sizes, number of epochs, and evaluation strategy.\n",
        "training_args = TrainingArguments(\n",
        "    output_dir='./results',\n",
        "    per_device_train_batch_size=16,\n",
        "    per_device_eval_batch_size= 16,\n",
        "    num_train_epochs=13,\n",
        "    logging_dir='./logs',\n",
        "    logging_steps=100,\n",
        "    evaluation_strategy=\"steps\",\n",
        "    eval_steps=1000,\n",
        "    save_steps=1000,\n",
        "    load_best_model_at_end=True,\n",
        "    learning_rate=3e-04,\n",
        "    resume_from_checkpoint= 'checkpoint-19000'\n",
        ")\n",
        "\n",
        "def compute_metrics(eval_pred):\n",
        "    predictions, labels = eval_pred\n",
        "    predictions = np.argmax(predictions, axis=1)\n",
        "    return {\"accuracy\": (predictions == labels).mean()}\n",
        "\n",
        "trainer = Trainer(\n",
        "    model=model,\n",
        "    args=training_args,\n",
        "    train_dataset=train_dataset,\n",
        "    eval_dataset=validation_dataset,\n",
        "    tokenizer=tokenizer,\n",
        "    compute_metrics=compute_metrics,\n",
        ")"
      ]
    },
    {
      "cell_type": "code",
      "execution_count": null,
      "metadata": {
        "colab": {
          "base_uri": "https://localhost:8080/",
          "height": 387
        },
        "id": "4ijQHeBHUnUT",
        "outputId": "f2bfbc42-ad01-46f4-aee6-8d5bb7ead13c"
      },
      "outputs": [
        {
          "data": {
            "text/html": [
              "\n",
              "    <div>\n",
              "      \n",
              "      <progress value='22783' max='23400' style='width:300px; height:20px; vertical-align: middle;'></progress>\n",
              "      [22783/23400 32:47 < 05:21, 1.92 it/s, Epoch 12.66/13]\n",
              "    </div>\n",
              "    <table border=\"1\" class=\"dataframe\">\n",
              "  <thead>\n",
              " <tr style=\"text-align: left;\">\n",
              "      <th>Step</th>\n",
              "      <th>Training Loss</th>\n",
              "      <th>Validation Loss</th>\n",
              "      <th>Accuracy</th>\n",
              "    </tr>\n",
              "  </thead>\n",
              "  <tbody>\n",
              "    <tr>\n",
              "      <td>20000</td>\n",
              "      <td>0.063000</td>\n",
              "      <td>0.869904</td>\n",
              "      <td>0.875556</td>\n",
              "    </tr>\n",
              "    <tr>\n",
              "      <td>21000</td>\n",
              "      <td>0.103700</td>\n",
              "      <td>0.911101</td>\n",
              "      <td>0.872500</td>\n",
              "    </tr>\n",
              "    <tr>\n",
              "      <td>22000</td>\n",
              "      <td>0.032000</td>\n",
              "      <td>0.918947</td>\n",
              "      <td>0.872778</td>\n",
              "    </tr>\n",
              "  </tbody>\n",
              "</table><p>"
            ],
            "text/plain": [
              "<IPython.core.display.HTML object>"
            ]
          },
          "metadata": {},
          "output_type": "display_data"
        },
        {
          "output_type": "display_data",
          "data": {
            "text/plain": [
              "<IPython.core.display.HTML object>"
            ],
            "text/html": [
              "\n",
              "    <div>\n",
              "      \n",
              "      <progress value='23400' max='23400' style='width:300px; height:20px; vertical-align: middle;'></progress>\n",
              "      [23400/23400 38:46, Epoch 13/13]\n",
              "    </div>\n",
              "    <table border=\"1\" class=\"dataframe\">\n",
              "  <thead>\n",
              " <tr style=\"text-align: left;\">\n",
              "      <th>Step</th>\n",
              "      <th>Training Loss</th>\n",
              "      <th>Validation Loss</th>\n",
              "      <th>Accuracy</th>\n",
              "    </tr>\n",
              "  </thead>\n",
              "  <tbody>\n",
              "    <tr>\n",
              "      <td>20000</td>\n",
              "      <td>0.063000</td>\n",
              "      <td>0.869904</td>\n",
              "      <td>0.875556</td>\n",
              "    </tr>\n",
              "    <tr>\n",
              "      <td>21000</td>\n",
              "      <td>0.103700</td>\n",
              "      <td>0.911101</td>\n",
              "      <td>0.872500</td>\n",
              "    </tr>\n",
              "    <tr>\n",
              "      <td>22000</td>\n",
              "      <td>0.032000</td>\n",
              "      <td>0.918947</td>\n",
              "      <td>0.872778</td>\n",
              "    </tr>\n",
              "    <tr>\n",
              "      <td>23000</td>\n",
              "      <td>0.041000</td>\n",
              "      <td>0.947457</td>\n",
              "      <td>0.873472</td>\n",
              "    </tr>\n",
              "  </tbody>\n",
              "</table><p>"
            ]
          },
          "metadata": {}
        },
        {
          "output_type": "execute_result",
          "data": {
            "text/plain": [
              "TrainOutput(global_step=23400, training_loss=0.01200609803199768, metrics={'train_runtime': 2326.9655, 'train_samples_per_second': 160.896, 'train_steps_per_second': 10.056, 'total_flos': 9.85114325385216e+16, 'train_loss': 0.01200609803199768, 'epoch': 13.0})"
            ]
          },
          "metadata": {},
          "execution_count": 50
        }
      ],
      "source": [
        "trainer.train(resume_from_checkpoint = '/content/results/checkpoint-19000')"
      ]
    },
    {
      "cell_type": "markdown",
      "metadata": {
        "id": "-KR0Jia2Shyz"
      },
      "source": [
        "**Bert Performance on Test Data**"
      ]
    },
    {
      "cell_type": "code",
      "source": [
        "model_path = '/content/results/checkpoint-23000'\n",
        "model = BertForSequenceClassification.from_pretrained(model_path, num_labels=\n",
        "                                                      len(set(new_data['condition_label'])))"
      ],
      "metadata": {
        "id": "xeTPwMydn5we"
      },
      "execution_count": null,
      "outputs": []
    },
    {
      "cell_type": "code",
      "execution_count": null,
      "metadata": {
        "id": "G1ujIy-FSkyX",
        "colab": {
          "base_uri": "https://localhost:8080/",
          "height": 72
        },
        "outputId": "8924ea2e-268b-468b-b462-f9f658d407bc"
      },
      "outputs": [
        {
          "output_type": "display_data",
          "data": {
            "text/plain": [
              "<IPython.core.display.HTML object>"
            ],
            "text/html": [
              "\n",
              "    <div>\n",
              "      \n",
              "      <progress value='563' max='563' style='width:300px; height:20px; vertical-align: middle;'></progress>\n",
              "      [563/563 01:29]\n",
              "    </div>\n",
              "    "
            ]
          },
          "metadata": {}
        },
        {
          "output_type": "stream",
          "name": "stdout",
          "text": [
            "Test Loss:  0.994253933429718\n",
            "Test Accuracy:  0.8681111111111111\n"
          ]
        }
      ],
      "source": [
        "trainer = Trainer(\n",
        "    model=model,\n",
        "    args=training_args,\n",
        "    compute_metrics=compute_metrics\n",
        ")\n",
        "\n",
        "test_results = trainer.evaluate(test_dataset)\n",
        "\n",
        "print(\"Test Accuracy: \", test_results['eval_accuracy'])"
      ]
    },
    {
      "cell_type": "markdown",
      "source": [
        "**Confusion Matrix**"
      ],
      "metadata": {
        "id": "LUaxYFnI5b8i"
      }
    },
    {
      "cell_type": "code",
      "source": [
        "predictions_output = trainer.predict(test_dataset)\n",
        "\n",
        "predictions = np.argmax(predictions_output.predictions, axis = 1)\n",
        "actuals = predictions_output.label_ids"
      ],
      "metadata": {
        "colab": {
          "base_uri": "https://localhost:8080/",
          "height": 17
        },
        "id": "Tzw0HmGs468_",
        "outputId": "82259232-eded-4e6f-f24a-29de3cf9c816"
      },
      "execution_count": null,
      "outputs": [
        {
          "output_type": "display_data",
          "data": {
            "text/plain": [
              "<IPython.core.display.HTML object>"
            ],
            "text/html": []
          },
          "metadata": {}
        }
      ]
    },
    {
      "cell_type": "code",
      "source": [
        "cm = confusion_matrix(actuals,  predictions)"
      ],
      "metadata": {
        "id": "4Rfuir6E5qai"
      },
      "execution_count": null,
      "outputs": []
    },
    {
      "cell_type": "code",
      "source": [
        "class_names = ['Neoplasms', 'Digestive System Diseases', 'Nervous System Diseases', 'Cardiovascular Diseases', 'General Pathological Conditions']\n",
        "\n",
        "plt.figure(figsize=(10, 7))\n",
        "sns.heatmap(cm, annot=True, fmt='d', cmap='Blues', xticklabels=class_names, yticklabels=class_names)\n",
        "plt.title('Confusion Matrix')\n",
        "plt.ylabel('Actual Classes')\n",
        "plt.xlabel('Predicted Classes')\n",
        "plt.show()"
      ],
      "metadata": {
        "colab": {
          "base_uri": "https://localhost:8080/",
          "height": 848
        },
        "id": "MxmLziy56Zs-",
        "outputId": "dfda5462-ae1e-48ba-dad9-3cd84c154ded"
      },
      "execution_count": null,
      "outputs": [
        {
          "output_type": "display_data",
          "data": {
            "text/plain": [
              "<Figure size 1000x700 with 2 Axes>"
            ],
            "image/png": "[encoded data removed]"
          },
          "metadata": {}
        }
      ]
    },
    {
      "cell_type": "code",
      "source": [
        "class_names = ['Neoplasms', 'Digestive System Diseases', 'Nervous System Diseases', 'Cardiovascular Diseases', 'General Pathological Conditions']\n",
        "\n",
        "report = classification_report(actuals, predictions, target_names=class_names)\n",
        "\n",
        "print(\"Classification Report:\\n\", report)"
      ],
      "metadata": {
        "colab": {
          "base_uri": "https://localhost:8080/"
        },
        "id": "w_ofgq7T6wi6",
        "outputId": "5494be88-0f03-4843-fffc-53792c4bfea5"
      },
      "execution_count": null,
      "outputs": [
        {
          "output_type": "stream",
          "name": "stdout",
          "text": [
            "Classification Report:\n",
            "                                  precision    recall  f1-score   support\n",
            "\n",
            "                      Neoplasms       0.90      0.89      0.89      1773\n",
            "      Digestive System Diseases       0.89      0.93      0.90      1833\n",
            "        Nervous System Diseases       0.86      0.90      0.88      1712\n",
            "        Cardiovascular Diseases       0.89      0.89      0.89      1826\n",
            "General Pathological Conditions       0.80      0.74      0.77      1856\n",
            "\n",
            "                       accuracy                           0.87      9000\n",
            "                      macro avg       0.87      0.87      0.87      9000\n",
            "                   weighted avg       0.87      0.87      0.87      9000\n",
            "\n"
          ]
        }
      ]
    },
    {
      "cell_type": "markdown",
      "metadata": {
        "id": "NLd1FBKISk4n"
      },
      "source": [
        "**Recurrent Neural Networks**"
      ]
    },
    {
      "cell_type": "code",
      "source": [
        "new_data = pd.read_csv('/content/new_data.csv')"
      ],
      "metadata": {
        "id": "nbYKTvyYA2BD"
      },
      "execution_count": 4,
      "outputs": []
    },
    {
      "cell_type": "code",
      "source": [
        "new_data = new_data.sample(frac=1)"
      ],
      "metadata": {
        "id": "5cBXzFmRrdJN"
      },
      "execution_count": 5,
      "outputs": []
    },
    {
      "cell_type": "code",
      "execution_count": 6,
      "metadata": {
        "id": "RQGqOgpkXqYY"
      },
      "outputs": [],
      "source": [
        "# Splitting the data into 60% Train set, 20% Test set and 20% Validation set.\n",
        "X_train, X_test, y_train, y_test = train_test_split(new_data['medical_abstract'],\n",
        "                                                         new_data['condition_label'],\n",
        "                                                         test_size = 0.2,\n",
        "                                                         random_state = 42,\n",
        "                                                         shuffle = True)\n",
        "\n",
        "X_train, X_validation, y_train, y_validation = train_test_split(X_train,\n",
        "                                                         y_train,\n",
        "                                                         test_size = 0.2,\n",
        "                                                         random_state = 42,\n",
        "                                                         shuffle = True)"
      ]
    },
    {
      "cell_type": "code",
      "execution_count": 7,
      "metadata": {
        "id": "96SHmqkGIaHh"
      },
      "outputs": [],
      "source": [
        "# Initializing the tokenizer and fitting it on the training data to prepare for sequence transformation.\n",
        "tokenizer = tf.keras.preprocessing.text.Tokenizer()\n",
        "tokenizer.fit_on_texts(X_train)\n",
        "\n",
        "# Converting texts to sequences to be processed by neural networks.\n",
        "train_sequences = tokenizer.texts_to_sequences(X_train)\n",
        "validation_sequences = tokenizer.texts_to_sequences(X_validation)\n",
        "test_sequences = tokenizer.texts_to_sequences(X_test)\n",
        "\n",
        "# Padding/truncating sequences to a uniform length of 200 for model input\n",
        "train_padded = tf.keras.preprocessing.sequence.pad_sequences(train_sequences, maxlen=200, padding='post', truncating='post')\n",
        "validation_padded = tf.keras.preprocessing.sequence.pad_sequences(validation_sequences, maxlen=200, padding='post', truncating='post')\n",
        "test_padded = tf.keras.preprocessing.sequence.pad_sequences(test_sequences, maxlen=200, padding='post', truncating='post')"
      ]
    },
    {
      "cell_type": "code",
      "execution_count": 8,
      "metadata": {
        "id": "4zZwlkAhH2VG"
      },
      "outputs": [],
      "source": [
        "# Encoding labels into integers.\n",
        "label_encoder = LabelEncoder()\n",
        "label_encoder.fit(y_train)\n",
        "train_labels_encoded = label_encoder.transform(y_train)\n",
        "validation_labels_encoded = label_encoder.transform(y_validation)\n",
        "test_labels_encoded = label_encoder.transform(y_test)"
      ]
    },
    {
      "cell_type": "code",
      "execution_count": 9,
      "metadata": {
        "id": "Tlr7h5PGovqN"
      },
      "outputs": [],
      "source": [
        "# Defining model dimensions and parameters.\n",
        "vocab_size = len(tokenizer.word_index) + 1\n",
        "embedding_dim = 300\n",
        "num_classes = len(label_encoder.classes_)"
      ]
    },
    {
      "cell_type": "code",
      "execution_count": 10,
      "metadata": {
        "id": "db-iPikQalaT"
      },
      "outputs": [],
      "source": [
        "# Constructing the recurrent neural network architecture.\n",
        "model = Sequential([\n",
        "    Embedding(input_dim=vocab_size, output_dim=embedding_dim, input_length=200),\n",
        "    SpatialDropout1D(0.2),\n",
        "    Bidirectional(LSTM(256, return_sequences=True)),\n",
        "    Dropout(0.7),\n",
        "    Bidirectional(LSTM(128, return_sequences=True)),\n",
        "    Dropout(0.7),\n",
        "    Bidirectional(LSTM(64, return_sequences=True, kernel_regularizer=L2(0.0005))),\n",
        "    Dropout(0.5),\n",
        "    Bidirectional(LSTM(32, return_sequences=False)),\n",
        "    Dense(128, activation='relu'),\n",
        "    Dropout(0.5),\n",
        "    BatchNormalization(),\n",
        "    Dense(num_classes, activation='softmax')\n",
        "])"
      ]
    },
    {
      "cell_type": "code",
      "execution_count": 11,
      "metadata": {
        "id": "vx00HP6KfQF4"
      },
      "outputs": [],
      "source": [
        "# Compiling the model with specified optimizer, loss function, and metrics.\n",
        "model.compile(optimizer=Adam(learning_rate=0.0001),\n",
        "              loss='sparse_categorical_crossentropy',\n",
        "              metrics=['accuracy'])"
      ]
    },
    {
      "cell_type": "code",
      "execution_count": 12,
      "metadata": {
        "id": "3LrGG66ImLBb"
      },
      "outputs": [],
      "source": [
        "# Setting up callbacks for early stopping and learning rate reduction.\n",
        "early_stopping = EarlyStopping(monitor='val_loss', patience=3, restore_best_weights=True, verbose=1)\n",
        "reduce_lr = ReduceLROnPlateau(monitor='val_loss', factor=0.2, patience=2, min_lr=0.000001, verbose=1)"
      ]
    },
    {
      "cell_type": "code",
      "source": [
        "model.summary()"
      ],
      "metadata": {
        "colab": {
          "base_uri": "https://localhost:8080/"
        },
        "id": "znU9SRlEzZMa",
        "outputId": "8abdf275-96a0-4ed4-c1c5-630ab53b6aca"
      },
      "execution_count": 13,
      "outputs": [
        {
          "output_type": "stream",
          "name": "stdout",
          "text": [
            "Model: \"sequential\"\n",
            "_________________________________________________________________\n",
            " Layer (type)                Output Shape              Param #   \n",
            "=================================================================\n",
            " embedding (Embedding)       (None, 200, 300)          5987700   \n",
            "                                                                 \n",
            " spatial_dropout1d (Spatial  (None, 200, 300)          0         \n",
            " Dropout1D)                                                      \n",
            "                                                                 \n",
            " bidirectional (Bidirection  (None, 200, 1024)         3330048   \n",
            " al)                                                             \n",
            "                                                                 \n",
            " dropout (Dropout)           (None, 200, 1024)         0         \n",
            "                                                                 \n",
            " bidirectional_1 (Bidirecti  (None, 200, 512)          2623488   \n",
            " onal)                                                           \n",
            "                                                                 \n",
            " dropout_1 (Dropout)         (None, 200, 512)          0         \n",
            "                                                                 \n",
            " bidirectional_2 (Bidirecti  (None, 200, 256)          656384    \n",
            " onal)                                                           \n",
            "                                                                 \n",
            " dropout_2 (Dropout)         (None, 200, 256)          0         \n",
            "                                                                 \n",
            " bidirectional_3 (Bidirecti  (None, 200, 128)          164352    \n",
            " onal)                                                           \n",
            "                                                                 \n",
            " dropout_3 (Dropout)         (None, 200, 128)          0         \n",
            "                                                                 \n",
            " bidirectional_4 (Bidirecti  (None, 64)                41216     \n",
            " onal)                                                           \n",
            "                                                                 \n",
            " dense (Dense)               (None, 128)               8320      \n",
            "                                                                 \n",
            " dropout_4 (Dropout)         (None, 128)               0         \n",
            "                                                                 \n",
            " batch_normalization (Batch  (None, 128)               512       \n",
            " Normalization)                                                  \n",
            "                                                                 \n",
            " dense_1 (Dense)             (None, 5)                 645       \n",
            "                                                                 \n",
            "=================================================================\n",
            "Total params: 12812665 (48.88 MB)\n",
            "Trainable params: 12812409 (48.88 MB)\n",
            "Non-trainable params: 256 (1.00 KB)\n",
            "_________________________________________________________________\n"
          ]
        }
      ]
    },
    {
      "cell_type": "code",
      "source": [
        "# Fitting the model on the training data and validating using the validation set.\n",
        "history = model.fit(train_padded, train_labels_encoded,\n",
        "                    validation_data=(validation_padded, validation_labels_encoded),\n",
        "                    epochs=30,\n",
        "                    batch_size=32,\n",
        "                    callbacks=[early_stopping, reduce_lr])"
      ],
      "metadata": {
        "colab": {
          "base_uri": "https://localhost:8080/",
          "height": 530
        },
        "id": "nTbrdh5PzhUO",
        "outputId": "d506ed5f-7f0c-4fb2-b23e-07909848afbe"
      },
      "execution_count": 14,
      "outputs": [
        {
          "output_type": "stream",
          "name": "stdout",
          "text": [
            "Epoch 1/30\n",
            "900/900 [==============================] - 181s 183ms/step - loss: 1.2306 - accuracy: 0.5814 - val_loss: 0.7558 - val_accuracy: 0.7764 - lr: 1.0000e-04\n",
            "Epoch 2/30\n",
            "900/900 [==============================] - 123s 137ms/step - loss: 0.6850 - accuracy: 0.7955 - val_loss: 0.6900 - val_accuracy: 0.7940 - lr: 1.0000e-04\n",
            "Epoch 3/30\n",
            "900/900 [==============================] - 118s 131ms/step - loss: 0.5099 - accuracy: 0.8559 - val_loss: 0.5631 - val_accuracy: 0.8389 - lr: 1.0000e-04\n",
            "Epoch 4/30\n",
            "900/900 [==============================] - 117s 130ms/step - loss: 0.4217 - accuracy: 0.8801 - val_loss: 0.5119 - val_accuracy: 0.8447 - lr: 1.0000e-04\n",
            "Epoch 5/30\n",
            "741/900 [=======================>......] - ETA: 18s - loss: 0.3512 - accuracy: 0.9016"
          ]
        },
        {
          "output_type": "error",
          "ename": "KeyboardInterrupt",
          "evalue": "",
          "traceback": [
            "\u001b[0;31m---------------------------------------------------------------------------\u001b[0m",
            "\u001b[0;31mKeyboardInterrupt\u001b[0m                         Traceback (most recent call last)",
            "\u001b[0;32m<ipython-input-14-6a29312ee524>\u001b[0m in \u001b[0;36m<cell line: 2>\u001b[0;34m()\u001b[0m\n\u001b[1;32m      1\u001b[0m \u001b[0;31m# Fitting the model on the training data and validating using the validation set.\u001b[0m\u001b[0;34m\u001b[0m\u001b[0;34m\u001b[0m\u001b[0m\n\u001b[0;32m----> 2\u001b[0;31m history = model.fit(train_padded, train_labels_encoded,\n\u001b[0m\u001b[1;32m      3\u001b[0m                     \u001b[0mvalidation_data\u001b[0m\u001b[0;34m=\u001b[0m\u001b[0;34m(\u001b[0m\u001b[0mvalidation_padded\u001b[0m\u001b[0;34m,\u001b[0m \u001b[0mvalidation_labels_encoded\u001b[0m\u001b[0;34m)\u001b[0m\u001b[0;34m,\u001b[0m\u001b[0;34m\u001b[0m\u001b[0;34m\u001b[0m\u001b[0m\n\u001b[1;32m      4\u001b[0m                     \u001b[0mepochs\u001b[0m\u001b[0;34m=\u001b[0m\u001b[0;36m30\u001b[0m\u001b[0;34m,\u001b[0m\u001b[0;34m\u001b[0m\u001b[0;34m\u001b[0m\u001b[0m\n\u001b[1;32m      5\u001b[0m                     \u001b[0mbatch_size\u001b[0m\u001b[0;34m=\u001b[0m\u001b[0;36m32\u001b[0m\u001b[0;34m,\u001b[0m\u001b[0;34m\u001b[0m\u001b[0;34m\u001b[0m\u001b[0m\n",
            "\u001b[0;32m/usr/local/lib/python3.10/dist-packages/keras/src/utils/traceback_utils.py\u001b[0m in \u001b[0;36merror_handler\u001b[0;34m(*args, **kwargs)\u001b[0m\n\u001b[1;32m     63\u001b[0m         \u001b[0mfiltered_tb\u001b[0m \u001b[0;34m=\u001b[0m \u001b[0;32mNone\u001b[0m\u001b[0;34m\u001b[0m\u001b[0;34m\u001b[0m\u001b[0m\n\u001b[1;32m     64\u001b[0m         \u001b[0;32mtry\u001b[0m\u001b[0;34m:\u001b[0m\u001b[0;34m\u001b[0m\u001b[0;34m\u001b[0m\u001b[0m\n\u001b[0;32m---> 65\u001b[0;31m             \u001b[0;32mreturn\u001b[0m \u001b[0mfn\u001b[0m\u001b[0;34m(\u001b[0m\u001b[0;34m*\u001b[0m\u001b[0margs\u001b[0m\u001b[0;34m,\u001b[0m \u001b[0;34m**\u001b[0m\u001b[0mkwargs\u001b[0m\u001b[0;34m)\u001b[0m\u001b[0;34m\u001b[0m\u001b[0;34m\u001b[0m\u001b[0m\n\u001b[0m\u001b[1;32m     66\u001b[0m         \u001b[0;32mexcept\u001b[0m \u001b[0mException\u001b[0m \u001b[0;32mas\u001b[0m \u001b[0me\u001b[0m\u001b[0;34m:\u001b[0m\u001b[0;34m\u001b[0m\u001b[0;34m\u001b[0m\u001b[0m\n\u001b[1;32m     67\u001b[0m             \u001b[0mfiltered_tb\u001b[0m \u001b[0;34m=\u001b[0m \u001b[0m_process_traceback_frames\u001b[0m\u001b[0;34m(\u001b[0m\u001b[0me\u001b[0m\u001b[0;34m.\u001b[0m\u001b[0m__traceback__\u001b[0m\u001b[0;34m)\u001b[0m\u001b[0;34m\u001b[0m\u001b[0;34m\u001b[0m\u001b[0m\n",
            "\u001b[0;32m/usr/local/lib/python3.10/dist-packages/keras/src/engine/training.py\u001b[0m in \u001b[0;36mfit\u001b[0;34m(self, x, y, batch_size, epochs, verbose, callbacks, validation_split, validation_data, shuffle, class_weight, sample_weight, initial_epoch, steps_per_epoch, validation_steps, validation_batch_size, validation_freq, max_queue_size, workers, use_multiprocessing)\u001b[0m\n\u001b[1;32m   1805\u001b[0m                         ):\n\u001b[1;32m   1806\u001b[0m                             \u001b[0mcallbacks\u001b[0m\u001b[0;34m.\u001b[0m\u001b[0mon_train_batch_begin\u001b[0m\u001b[0;34m(\u001b[0m\u001b[0mstep\u001b[0m\u001b[0;34m)\u001b[0m\u001b[0;34m\u001b[0m\u001b[0;34m\u001b[0m\u001b[0m\n\u001b[0;32m-> 1807\u001b[0;31m                             \u001b[0mtmp_logs\u001b[0m \u001b[0;34m=\u001b[0m \u001b[0mself\u001b[0m\u001b[0;34m.\u001b[0m\u001b[0mtrain_function\u001b[0m\u001b[0;34m(\u001b[0m\u001b[0miterator\u001b[0m\u001b[0;34m)\u001b[0m\u001b[0;34m\u001b[0m\u001b[0;34m\u001b[0m\u001b[0m\n\u001b[0m\u001b[1;32m   1808\u001b[0m                             \u001b[0;32mif\u001b[0m \u001b[0mdata_handler\u001b[0m\u001b[0;34m.\u001b[0m\u001b[0mshould_sync\u001b[0m\u001b[0;34m:\u001b[0m\u001b[0;34m\u001b[0m\u001b[0;34m\u001b[0m\u001b[0m\n\u001b[1;32m   1809\u001b[0m                                 \u001b[0mcontext\u001b[0m\u001b[0;34m.\u001b[0m\u001b[0masync_wait\u001b[0m\u001b[0;34m(\u001b[0m\u001b[0;34m)\u001b[0m\u001b[0;34m\u001b[0m\u001b[0;34m\u001b[0m\u001b[0m\n",
            "\u001b[0;32m/usr/local/lib/python3.10/dist-packages/tensorflow/python/util/traceback_utils.py\u001b[0m in \u001b[0;36merror_handler\u001b[0;34m(*args, **kwargs)\u001b[0m\n\u001b[1;32m    148\u001b[0m     \u001b[0mfiltered_tb\u001b[0m \u001b[0;34m=\u001b[0m \u001b[0;32mNone\u001b[0m\u001b[0;34m\u001b[0m\u001b[0;34m\u001b[0m\u001b[0m\n\u001b[1;32m    149\u001b[0m     \u001b[0;32mtry\u001b[0m\u001b[0;34m:\u001b[0m\u001b[0;34m\u001b[0m\u001b[0;34m\u001b[0m\u001b[0m\n\u001b[0;32m--> 150\u001b[0;31m       \u001b[0;32mreturn\u001b[0m \u001b[0mfn\u001b[0m\u001b[0;34m(\u001b[0m\u001b[0;34m*\u001b[0m\u001b[0margs\u001b[0m\u001b[0;34m,\u001b[0m \u001b[0;34m**\u001b[0m\u001b[0mkwargs\u001b[0m\u001b[0;34m)\u001b[0m\u001b[0;34m\u001b[0m\u001b[0;34m\u001b[0m\u001b[0m\n\u001b[0m\u001b[1;32m    151\u001b[0m     \u001b[0;32mexcept\u001b[0m \u001b[0mException\u001b[0m \u001b[0;32mas\u001b[0m \u001b[0me\u001b[0m\u001b[0;34m:\u001b[0m\u001b[0;34m\u001b[0m\u001b[0;34m\u001b[0m\u001b[0m\n\u001b[1;32m    152\u001b[0m       \u001b[0mfiltered_tb\u001b[0m \u001b[0;34m=\u001b[0m \u001b[0m_process_traceback_frames\u001b[0m\u001b[0;34m(\u001b[0m\u001b[0me\u001b[0m\u001b[0;34m.\u001b[0m\u001b[0m__traceback__\u001b[0m\u001b[0;34m)\u001b[0m\u001b[0;34m\u001b[0m\u001b[0;34m\u001b[0m\u001b[0m\n",
            "\u001b[0;32m/usr/local/lib/python3.10/dist-packages/tensorflow/python/eager/polymorphic_function/polymorphic_function.py\u001b[0m in \u001b[0;36m__call__\u001b[0;34m(self, *args, **kwds)\u001b[0m\n\u001b[1;32m    830\u001b[0m \u001b[0;34m\u001b[0m\u001b[0m\n\u001b[1;32m    831\u001b[0m       \u001b[0;32mwith\u001b[0m \u001b[0mOptionalXlaContext\u001b[0m\u001b[0;34m(\u001b[0m\u001b[0mself\u001b[0m\u001b[0;34m.\u001b[0m\u001b[0m_jit_compile\u001b[0m\u001b[0;34m)\u001b[0m\u001b[0;34m:\u001b[0m\u001b[0;34m\u001b[0m\u001b[0;34m\u001b[0m\u001b[0m\n\u001b[0;32m--> 832\u001b[0;31m         \u001b[0mresult\u001b[0m \u001b[0;34m=\u001b[0m \u001b[0mself\u001b[0m\u001b[0;34m.\u001b[0m\u001b[0m_call\u001b[0m\u001b[0;34m(\u001b[0m\u001b[0;34m*\u001b[0m\u001b[0margs\u001b[0m\u001b[0;34m,\u001b[0m \u001b[0;34m**\u001b[0m\u001b[0mkwds\u001b[0m\u001b[0;34m)\u001b[0m\u001b[0;34m\u001b[0m\u001b[0;34m\u001b[0m\u001b[0m\n\u001b[0m\u001b[1;32m    833\u001b[0m \u001b[0;34m\u001b[0m\u001b[0m\n\u001b[1;32m    834\u001b[0m       \u001b[0mnew_tracing_count\u001b[0m \u001b[0;34m=\u001b[0m \u001b[0mself\u001b[0m\u001b[0;34m.\u001b[0m\u001b[0mexperimental_get_tracing_count\u001b[0m\u001b[0;34m(\u001b[0m\u001b[0;34m)\u001b[0m\u001b[0;34m\u001b[0m\u001b[0;34m\u001b[0m\u001b[0m\n",
            "\u001b[0;32m/usr/local/lib/python3.10/dist-packages/tensorflow/python/eager/polymorphic_function/polymorphic_function.py\u001b[0m in \u001b[0;36m_call\u001b[0;34m(self, *args, **kwds)\u001b[0m\n\u001b[1;32m    866\u001b[0m       \u001b[0;31m# In this case we have created variables on the first call, so we run the\u001b[0m\u001b[0;34m\u001b[0m\u001b[0;34m\u001b[0m\u001b[0m\n\u001b[1;32m    867\u001b[0m       \u001b[0;31m# defunned version which is guaranteed to never create variables.\u001b[0m\u001b[0;34m\u001b[0m\u001b[0;34m\u001b[0m\u001b[0m\n\u001b[0;32m--> 868\u001b[0;31m       return tracing_compilation.call_function(\n\u001b[0m\u001b[1;32m    869\u001b[0m           \u001b[0margs\u001b[0m\u001b[0;34m,\u001b[0m \u001b[0mkwds\u001b[0m\u001b[0;34m,\u001b[0m \u001b[0mself\u001b[0m\u001b[0;34m.\u001b[0m\u001b[0m_no_variable_creation_config\u001b[0m\u001b[0;34m\u001b[0m\u001b[0;34m\u001b[0m\u001b[0m\n\u001b[1;32m    870\u001b[0m       )\n",
            "\u001b[0;32m/usr/local/lib/python3.10/dist-packages/tensorflow/python/eager/polymorphic_function/tracing_compilation.py\u001b[0m in \u001b[0;36mcall_function\u001b[0;34m(args, kwargs, tracing_options)\u001b[0m\n\u001b[1;32m    137\u001b[0m   \u001b[0mbound_args\u001b[0m \u001b[0;34m=\u001b[0m \u001b[0mfunction\u001b[0m\u001b[0;34m.\u001b[0m\u001b[0mfunction_type\u001b[0m\u001b[0;34m.\u001b[0m\u001b[0mbind\u001b[0m\u001b[0;34m(\u001b[0m\u001b[0;34m*\u001b[0m\u001b[0margs\u001b[0m\u001b[0;34m,\u001b[0m \u001b[0;34m**\u001b[0m\u001b[0mkwargs\u001b[0m\u001b[0;34m)\u001b[0m\u001b[0;34m\u001b[0m\u001b[0;34m\u001b[0m\u001b[0m\n\u001b[1;32m    138\u001b[0m   \u001b[0mflat_inputs\u001b[0m \u001b[0;34m=\u001b[0m \u001b[0mfunction\u001b[0m\u001b[0;34m.\u001b[0m\u001b[0mfunction_type\u001b[0m\u001b[0;34m.\u001b[0m\u001b[0munpack_inputs\u001b[0m\u001b[0;34m(\u001b[0m\u001b[0mbound_args\u001b[0m\u001b[0;34m)\u001b[0m\u001b[0;34m\u001b[0m\u001b[0;34m\u001b[0m\u001b[0m\n\u001b[0;32m--> 139\u001b[0;31m   return function._call_flat(  # pylint: disable=protected-access\n\u001b[0m\u001b[1;32m    140\u001b[0m       \u001b[0mflat_inputs\u001b[0m\u001b[0;34m,\u001b[0m \u001b[0mcaptured_inputs\u001b[0m\u001b[0;34m=\u001b[0m\u001b[0mfunction\u001b[0m\u001b[0;34m.\u001b[0m\u001b[0mcaptured_inputs\u001b[0m\u001b[0;34m\u001b[0m\u001b[0;34m\u001b[0m\u001b[0m\n\u001b[1;32m    141\u001b[0m   )\n",
            "\u001b[0;32m/usr/local/lib/python3.10/dist-packages/tensorflow/python/eager/polymorphic_function/concrete_function.py\u001b[0m in \u001b[0;36m_call_flat\u001b[0;34m(self, tensor_inputs, captured_inputs)\u001b[0m\n\u001b[1;32m   1321\u001b[0m         and executing_eagerly):\n\u001b[1;32m   1322\u001b[0m       \u001b[0;31m# No tape is watching; skip to running the function.\u001b[0m\u001b[0;34m\u001b[0m\u001b[0;34m\u001b[0m\u001b[0m\n\u001b[0;32m-> 1323\u001b[0;31m       \u001b[0;32mreturn\u001b[0m \u001b[0mself\u001b[0m\u001b[0;34m.\u001b[0m\u001b[0m_inference_function\u001b[0m\u001b[0;34m.\u001b[0m\u001b[0mcall_preflattened\u001b[0m\u001b[0;34m(\u001b[0m\u001b[0margs\u001b[0m\u001b[0;34m)\u001b[0m\u001b[0;34m\u001b[0m\u001b[0;34m\u001b[0m\u001b[0m\n\u001b[0m\u001b[1;32m   1324\u001b[0m     forward_backward = self._select_forward_and_backward_functions(\n\u001b[1;32m   1325\u001b[0m         \u001b[0margs\u001b[0m\u001b[0;34m,\u001b[0m\u001b[0;34m\u001b[0m\u001b[0;34m\u001b[0m\u001b[0m\n",
            "\u001b[0;32m/usr/local/lib/python3.10/dist-packages/tensorflow/python/eager/polymorphic_function/atomic_function.py\u001b[0m in \u001b[0;36mcall_preflattened\u001b[0;34m(self, args)\u001b[0m\n\u001b[1;32m    214\u001b[0m   \u001b[0;32mdef\u001b[0m \u001b[0mcall_preflattened\u001b[0m\u001b[0;34m(\u001b[0m\u001b[0mself\u001b[0m\u001b[0;34m,\u001b[0m \u001b[0margs\u001b[0m\u001b[0;34m:\u001b[0m \u001b[0mSequence\u001b[0m\u001b[0;34m[\u001b[0m\u001b[0mcore\u001b[0m\u001b[0;34m.\u001b[0m\u001b[0mTensor\u001b[0m\u001b[0;34m]\u001b[0m\u001b[0;34m)\u001b[0m \u001b[0;34m->\u001b[0m \u001b[0mAny\u001b[0m\u001b[0;34m:\u001b[0m\u001b[0;34m\u001b[0m\u001b[0;34m\u001b[0m\u001b[0m\n\u001b[1;32m    215\u001b[0m     \u001b[0;34m\"\"\"Calls with flattened tensor inputs and returns the structured output.\"\"\"\u001b[0m\u001b[0;34m\u001b[0m\u001b[0;34m\u001b[0m\u001b[0m\n\u001b[0;32m--> 216\u001b[0;31m     \u001b[0mflat_outputs\u001b[0m \u001b[0;34m=\u001b[0m \u001b[0mself\u001b[0m\u001b[0;34m.\u001b[0m\u001b[0mcall_flat\u001b[0m\u001b[0;34m(\u001b[0m\u001b[0;34m*\u001b[0m\u001b[0margs\u001b[0m\u001b[0;34m)\u001b[0m\u001b[0;34m\u001b[0m\u001b[0;34m\u001b[0m\u001b[0m\n\u001b[0m\u001b[1;32m    217\u001b[0m     \u001b[0;32mreturn\u001b[0m \u001b[0mself\u001b[0m\u001b[0;34m.\u001b[0m\u001b[0mfunction_type\u001b[0m\u001b[0;34m.\u001b[0m\u001b[0mpack_output\u001b[0m\u001b[0;34m(\u001b[0m\u001b[0mflat_outputs\u001b[0m\u001b[0;34m)\u001b[0m\u001b[0;34m\u001b[0m\u001b[0;34m\u001b[0m\u001b[0m\n\u001b[1;32m    218\u001b[0m \u001b[0;34m\u001b[0m\u001b[0m\n",
            "\u001b[0;32m/usr/local/lib/python3.10/dist-packages/tensorflow/python/eager/polymorphic_function/atomic_function.py\u001b[0m in \u001b[0;36mcall_flat\u001b[0;34m(self, *args)\u001b[0m\n\u001b[1;32m    249\u001b[0m         \u001b[0;32mwith\u001b[0m \u001b[0mrecord\u001b[0m\u001b[0;34m.\u001b[0m\u001b[0mstop_recording\u001b[0m\u001b[0;34m(\u001b[0m\u001b[0;34m)\u001b[0m\u001b[0;34m:\u001b[0m\u001b[0;34m\u001b[0m\u001b[0;34m\u001b[0m\u001b[0m\n\u001b[1;32m    250\u001b[0m           \u001b[0;32mif\u001b[0m \u001b[0mself\u001b[0m\u001b[0;34m.\u001b[0m\u001b[0m_bound_context\u001b[0m\u001b[0;34m.\u001b[0m\u001b[0mexecuting_eagerly\u001b[0m\u001b[0;34m(\u001b[0m\u001b[0;34m)\u001b[0m\u001b[0;34m:\u001b[0m\u001b[0;34m\u001b[0m\u001b[0;34m\u001b[0m\u001b[0m\n\u001b[0;32m--> 251\u001b[0;31m             outputs = self._bound_context.call_function(\n\u001b[0m\u001b[1;32m    252\u001b[0m                 \u001b[0mself\u001b[0m\u001b[0;34m.\u001b[0m\u001b[0mname\u001b[0m\u001b[0;34m,\u001b[0m\u001b[0;34m\u001b[0m\u001b[0;34m\u001b[0m\u001b[0m\n\u001b[1;32m    253\u001b[0m                 \u001b[0mlist\u001b[0m\u001b[0;34m(\u001b[0m\u001b[0margs\u001b[0m\u001b[0;34m)\u001b[0m\u001b[0;34m,\u001b[0m\u001b[0;34m\u001b[0m\u001b[0;34m\u001b[0m\u001b[0m\n",
            "\u001b[0;32m/usr/local/lib/python3.10/dist-packages/tensorflow/python/eager/context.py\u001b[0m in \u001b[0;36mcall_function\u001b[0;34m(self, name, tensor_inputs, num_outputs)\u001b[0m\n\u001b[1;32m   1484\u001b[0m     \u001b[0mcancellation_context\u001b[0m \u001b[0;34m=\u001b[0m \u001b[0mcancellation\u001b[0m\u001b[0;34m.\u001b[0m\u001b[0mcontext\u001b[0m\u001b[0;34m(\u001b[0m\u001b[0;34m)\u001b[0m\u001b[0;34m\u001b[0m\u001b[0;34m\u001b[0m\u001b[0m\n\u001b[1;32m   1485\u001b[0m     \u001b[0;32mif\u001b[0m \u001b[0mcancellation_context\u001b[0m \u001b[0;32mis\u001b[0m \u001b[0;32mNone\u001b[0m\u001b[0;34m:\u001b[0m\u001b[0;34m\u001b[0m\u001b[0;34m\u001b[0m\u001b[0m\n\u001b[0;32m-> 1486\u001b[0;31m       outputs = execute.execute(\n\u001b[0m\u001b[1;32m   1487\u001b[0m           \u001b[0mname\u001b[0m\u001b[0;34m.\u001b[0m\u001b[0mdecode\u001b[0m\u001b[0;34m(\u001b[0m\u001b[0;34m\"utf-8\"\u001b[0m\u001b[0;34m)\u001b[0m\u001b[0;34m,\u001b[0m\u001b[0;34m\u001b[0m\u001b[0;34m\u001b[0m\u001b[0m\n\u001b[1;32m   1488\u001b[0m           \u001b[0mnum_outputs\u001b[0m\u001b[0;34m=\u001b[0m\u001b[0mnum_outputs\u001b[0m\u001b[0;34m,\u001b[0m\u001b[0;34m\u001b[0m\u001b[0;34m\u001b[0m\u001b[0m\n",
            "\u001b[0;32m/usr/local/lib/python3.10/dist-packages/tensorflow/python/eager/execute.py\u001b[0m in \u001b[0;36mquick_execute\u001b[0;34m(op_name, num_outputs, inputs, attrs, ctx, name)\u001b[0m\n\u001b[1;32m     51\u001b[0m   \u001b[0;32mtry\u001b[0m\u001b[0;34m:\u001b[0m\u001b[0;34m\u001b[0m\u001b[0;34m\u001b[0m\u001b[0m\n\u001b[1;32m     52\u001b[0m     \u001b[0mctx\u001b[0m\u001b[0;34m.\u001b[0m\u001b[0mensure_initialized\u001b[0m\u001b[0;34m(\u001b[0m\u001b[0;34m)\u001b[0m\u001b[0;34m\u001b[0m\u001b[0;34m\u001b[0m\u001b[0m\n\u001b[0;32m---> 53\u001b[0;31m     tensors = pywrap_tfe.TFE_Py_Execute(ctx._handle, device_name, op_name,\n\u001b[0m\u001b[1;32m     54\u001b[0m                                         inputs, attrs, num_outputs)\n\u001b[1;32m     55\u001b[0m   \u001b[0;32mexcept\u001b[0m \u001b[0mcore\u001b[0m\u001b[0;34m.\u001b[0m\u001b[0m_NotOkStatusException\u001b[0m \u001b[0;32mas\u001b[0m \u001b[0me\u001b[0m\u001b[0;34m:\u001b[0m\u001b[0;34m\u001b[0m\u001b[0;34m\u001b[0m\u001b[0m\n",
            "\u001b[0;31mKeyboardInterrupt\u001b[0m: "
          ]
        }
      ]
    },
    {
      "cell_type": "markdown",
      "metadata": {
        "id": "D0N14cGpSnvx"
      },
      "source": [
        "**Best Model Performance on Test Data**"
      ]
    },
    {
      "cell_type": "code",
      "execution_count": null,
      "metadata": {
        "id": "aesurJ50SsYY"
      },
      "outputs": [],
      "source": [
        "loss, accuracy = model.evaluate(test_padded, test_labels_encoded)\n",
        "print(f\"Test Loss: {loss}\")\n",
        "print(f\"Test Accuracy: {accuracy * 100:.2f}%\")"
      ]
    },
    {
      "cell_type": "code",
      "source": [
        "predictions = model.predict(test_padded)\n",
        "predicted_classes = np.argmax(predictions, axis=1)\n",
        "\n",
        "cm = confusion_matrix(test_labels_encoded, predicted_classes)\n",
        "\n",
        "report = classification_report(test_labels_encoded, predicted_classes)\n",
        "print(report)"
      ],
      "metadata": {
        "id": "T--abXl51ow4"
      },
      "execution_count": null,
      "outputs": []
    },
    {
      "cell_type": "code",
      "source": [
        "class_names = ['Neoplasms', 'Digestive System Diseases', 'Nervous System Diseases', 'Cardiovascular Diseases', 'General Pathological Conditions']\n",
        "\n",
        "plt.figure(figsize=(10, 7))\n",
        "sns.heatmap(cm, annot=True, fmt='d', cmap='Blues', xticklabels=class_names, yticklabels=class_names)\n",
        "plt.title('Confusion Matrix')\n",
        "plt.ylabel('Actual Classes')\n",
        "plt.xlabel('Predicted Classes')\n",
        "plt.show()"
      ],
      "metadata": {
        "id": "bZZlmE8g2glg"
      },
      "execution_count": null,
      "outputs": []
    },
    {
      "cell_type": "code",
      "source": [
        "model.save('rnn.h5')"
      ],
      "metadata": {
        "colab": {
          "base_uri": "https://localhost:8080/"
        },
        "id": "HyxHJrCQJAdW",
        "outputId": "e79c47c9-7a10-4842-e824-0543c88b831d"
      },
      "execution_count": null,
      "outputs": [
        {
          "output_type": "stream",
          "name": "stderr",
          "text": [
            "/usr/local/lib/python3.10/dist-packages/keras/src/engine/training.py:3103: UserWarning: You are saving your model as an HDF5 file via `model.save()`. This file format is considered legacy. We recommend using instead the native Keras format, e.g. `model.save('my_model.keras')`.\n",
            "  saving_api.save_model(\n"
          ]
        }
      ]
    },
    {
      "cell_type": "markdown",
      "metadata": {
        "id": "Ym-VHh5qSspJ"
      },
      "source": [
        "**Comparing Model Performance & Picking the Best**"
      ]
    },
    {
      "cell_type": "code",
      "source": [
        "models = [\"BERT\", \"Recurrent Neural Networks\", \"Logistic Regression\", \"Support Vector Machine\", \"XGBOOST\"]\n",
        "accuracies = [0.8688, 0.8617, 0.8687, 0.8744, 0.84]\n",
        "\n",
        "plt.figure(figsize=(12, 8))\n",
        "bars = plt.bar(models, accuracies, color='orange')\n",
        "\n",
        "plt.title('Models Accuracy Scores on Test Data')\n",
        "plt.ylabel('Accuracy')\n",
        "plt.xlabel('Models')\n",
        "\n",
        "\n",
        "for bar, accuracy in zip(bars, accuracies):\n",
        "    yval = bar.get_height()\n",
        "    plt.text(bar.get_x() + bar.get_width()/2, yval, round(accuracy, 4), ha='center', va='bottom')\n",
        "\n",
        "plt.show()"
      ],
      "metadata": {
        "id": "MeCRbfB-bTWD",
        "colab": {
          "base_uri": "https://localhost:8080/",
          "height": 718
        },
        "outputId": "50a1f897-8288-4738-9178-95d2bcabc18b"
      },
      "execution_count": 22,
      "outputs": [
        {
          "output_type": "display_data",
          "data": {
            "text/plain": [
              "<Figure size 1200x800 with 1 Axes>"
            ],
            "image/png": "[encoded data removed]"
          },
          "metadata": {}
        }
      ]
    }
  ],
  "metadata": {
    "accelerator": "GPU",
    "colab": {
      "gpuType": "V100",
      "machine_shape": "hm",
      "provenance": []
    },
    "kernelspec": {
      "display_name": "Python 3",
      "name": "python3"
    },
    "language_info": {
      "name": "python"
    },
    "widgets": {
      "application/vnd.jupyter.widget-state+json": {
        "1f455446b8ae44b791146867338b4e40": {
          "model_module": "@jupyter-widgets/controls",
          "model_name": "HBoxModel",
          "model_module_version": "1.5.0",
          "state": {
            "_dom_classes": [],
            "_model_module": "@jupyter-widgets/controls",
            "_model_module_version": "1.5.0",
            "_model_name": "HBoxModel",
            "_view_count": null,
            "_view_module": "@jupyter-widgets/controls",
            "_view_module_version": "1.5.0",
            "_view_name": "HBoxView",
            "box_style": "",
            "children": [
              "IPY_MODEL_d1eca58eccfa4730a066b0a317d3618c",
              "IPY_MODEL_924c9ba80f30410b9c25678096980e3b",
              "IPY_MODEL_cdf4cee7e30948a7b48d382449be0a44"
            ],
            "layout": "IPY_MODEL_0881ca946dc7400ebbf36c0c6b6c2d06"
          }
        },
        "d1eca58eccfa4730a066b0a317d3618c": {
          "model_module": "@jupyter-widgets/controls",
          "model_name": "HTMLModel",
          "model_module_version": "1.5.0",
          "state": {
            "_dom_classes": [],
            "_model_module": "@jupyter-widgets/controls",
            "_model_module_version": "1.5.0",
            "_model_name": "HTMLModel",
            "_view_count": null,
            "_view_module": "@jupyter-widgets/controls",
            "_view_module_version": "1.5.0",
            "_view_name": "HTMLView",
            "description": "",
            "description_tooltip": null,
            "layout": "IPY_MODEL_21bda886fe9946e084b148d06d6bce12",
            "placeholder": "​",
            "style": "IPY_MODEL_4dd49af8043c4f7cb48a01cfe462cd59",
            "value": "tokenizer_config.json: 100%"
          }
        },
        "924c9ba80f30410b9c25678096980e3b": {
          "model_module": "@jupyter-widgets/controls",
          "model_name": "FloatProgressModel",
          "model_module_version": "1.5.0",
          "state": {
            "_dom_classes": [],
            "_model_module": "@jupyter-widgets/controls",
            "_model_module_version": "1.5.0",
            "_model_name": "FloatProgressModel",
            "_view_count": null,
            "_view_module": "@jupyter-widgets/controls",
            "_view_module_version": "1.5.0",
            "_view_name": "ProgressView",
            "bar_style": "success",
            "description": "",
            "description_tooltip": null,
            "layout": "IPY_MODEL_15dda80750ae46228202ae98c104e441",
            "max": 28,
            "min": 0,
            "orientation": "horizontal",
            "style": "IPY_MODEL_24e3e70e2dc6403ea80246398460ece0",
            "value": 28
          }
        },
        "cdf4cee7e30948a7b48d382449be0a44": {
          "model_module": "@jupyter-widgets/controls",
          "model_name": "HTMLModel",
          "model_module_version": "1.5.0",
          "state": {
            "_dom_classes": [],
            "_model_module": "@jupyter-widgets/controls",
            "_model_module_version": "1.5.0",
            "_model_name": "HTMLModel",
            "_view_count": null,
            "_view_module": "@jupyter-widgets/controls",
            "_view_module_version": "1.5.0",
            "_view_name": "HTMLView",
            "description": "",
            "description_tooltip": null,
            "layout": "IPY_MODEL_c80b19a520ea4875a089198faa2e1e2d",
            "placeholder": "​",
            "style": "IPY_MODEL_d53c35daf1db449c8788c8bef59a014b",
            "value": " 28.0/28.0 [00:00&lt;00:00, 1.87kB/s]"
          }
        },
        "0881ca946dc7400ebbf36c0c6b6c2d06": {
          "model_module": "@jupyter-widgets/base",
          "model_name": "LayoutModel",
          "model_module_version": "1.2.0",
          "state": {
            "_model_module": "@jupyter-widgets/base",
            "_model_module_version": "1.2.0",
            "_model_name": "LayoutModel",
            "_view_count": null,
            "_view_module": "@jupyter-widgets/base",
            "_view_module_version": "1.2.0",
            "_view_name": "LayoutView",
            "align_content": null,
            "align_items": null,
            "align_self": null,
            "border": null,
            "bottom": null,
            "display": null,
            "flex": null,
            "flex_flow": null,
            "grid_area": null,
            "grid_auto_columns": null,
            "grid_auto_flow": null,
            "grid_auto_rows": null,
            "grid_column": null,
            "grid_gap": null,
            "grid_row": null,
            "grid_template_areas": null,
            "grid_template_columns": null,
            "grid_template_rows": null,
            "height": null,
            "justify_content": null,
            "justify_items": null,
            "left": null,
            "margin": null,
            "max_height": null,
            "max_width": null,
            "min_height": null,
            "min_width": null,
            "object_fit": null,
            "object_position": null,
            "order": null,
            "overflow": null,
            "overflow_x": null,
            "overflow_y": null,
            "padding": null,
            "right": null,
            "top": null,
            "visibility": null,
            "width": null
          }
        },
        "21bda886fe9946e084b148d06d6bce12": {
          "model_module": "@jupyter-widgets/base",
          "model_name": "LayoutModel",
          "model_module_version": "1.2.0",
          "state": {
            "_model_module": "@jupyter-widgets/base",
            "_model_module_version": "1.2.0",
            "_model_name": "LayoutModel",
            "_view_count": null,
            "_view_module": "@jupyter-widgets/base",
            "_view_module_version": "1.2.0",
            "_view_name": "LayoutView",
            "align_content": null,
            "align_items": null,
            "align_self": null,
            "border": null,
            "bottom": null,
            "display": null,
            "flex": null,
            "flex_flow": null,
            "grid_area": null,
            "grid_auto_columns": null,
            "grid_auto_flow": null,
            "grid_auto_rows": null,
            "grid_column": null,
            "grid_gap": null,
            "grid_row": null,
            "grid_template_areas": null,
            "grid_template_columns": null,
            "grid_template_rows": null,
            "height": null,
            "justify_content": null,
            "justify_items": null,
            "left": null,
            "margin": null,
            "max_height": null,
            "max_width": null,
            "min_height": null,
            "min_width": null,
            "object_fit": null,
            "object_position": null,
            "order": null,
            "overflow": null,
            "overflow_x": null,
            "overflow_y": null,
            "padding": null,
            "right": null,
            "top": null,
            "visibility": null,
            "width": null
          }
        },
        "4dd49af8043c4f7cb48a01cfe462cd59": {
          "model_module": "@jupyter-widgets/controls",
          "model_name": "DescriptionStyleModel",
          "model_module_version": "1.5.0",
          "state": {
            "_model_module": "@jupyter-widgets/controls",
            "_model_module_version": "1.5.0",
            "_model_name": "DescriptionStyleModel",
            "_view_count": null,
            "_view_module": "@jupyter-widgets/base",
            "_view_module_version": "1.2.0",
            "_view_name": "StyleView",
            "description_width": ""
          }
        },
        "15dda80750ae46228202ae98c104e441": {
          "model_module": "@jupyter-widgets/base",
          "model_name": "LayoutModel",
          "model_module_version": "1.2.0",
          "state": {
            "_model_module": "@jupyter-widgets/base",
            "_model_module_version": "1.2.0",
            "_model_name": "LayoutModel",
            "_view_count": null,
            "_view_module": "@jupyter-widgets/base",
            "_view_module_version": "1.2.0",
            "_view_name": "LayoutView",
            "align_content": null,
            "align_items": null,
            "align_self": null,
            "border": null,
            "bottom": null,
            "display": null,
            "flex": null,
            "flex_flow": null,
            "grid_area": null,
            "grid_auto_columns": null,
            "grid_auto_flow": null,
            "grid_auto_rows": null,
            "grid_column": null,
            "grid_gap": null,
            "grid_row": null,
            "grid_template_areas": null,
            "grid_template_columns": null,
            "grid_template_rows": null,
            "height": null,
            "justify_content": null,
            "justify_items": null,
            "left": null,
            "margin": null,
            "max_height": null,
            "max_width": null,
            "min_height": null,
            "min_width": null,
            "object_fit": null,
            "object_position": null,
            "order": null,
            "overflow": null,
            "overflow_x": null,
            "overflow_y": null,
            "padding": null,
            "right": null,
            "top": null,
            "visibility": null,
            "width": null
          }
        },
        "24e3e70e2dc6403ea80246398460ece0": {
          "model_module": "@jupyter-widgets/controls",
          "model_name": "ProgressStyleModel",
          "model_module_version": "1.5.0",
          "state": {
            "_model_module": "@jupyter-widgets/controls",
            "_model_module_version": "1.5.0",
            "_model_name": "ProgressStyleModel",
            "_view_count": null,
            "_view_module": "@jupyter-widgets/base",
            "_view_module_version": "1.2.0",
            "_view_name": "StyleView",
            "bar_color": null,
            "description_width": ""
          }
        },
        "c80b19a520ea4875a089198faa2e1e2d": {
          "model_module": "@jupyter-widgets/base",
          "model_name": "LayoutModel",
          "model_module_version": "1.2.0",
          "state": {
            "_model_module": "@jupyter-widgets/base",
            "_model_module_version": "1.2.0",
            "_model_name": "LayoutModel",
            "_view_count": null,
            "_view_module": "@jupyter-widgets/base",
            "_view_module_version": "1.2.0",
            "_view_name": "LayoutView",
            "align_content": null,
            "align_items": null,
            "align_self": null,
            "border": null,
            "bottom": null,
            "display": null,
            "flex": null,
            "flex_flow": null,
            "grid_area": null,
            "grid_auto_columns": null,
            "grid_auto_flow": null,
            "grid_auto_rows": null,
            "grid_column": null,
            "grid_gap": null,
            "grid_row": null,
            "grid_template_areas": null,
            "grid_template_columns": null,
            "grid_template_rows": null,
            "height": null,
            "justify_content": null,
            "justify_items": null,
            "left": null,
            "margin": null,
            "max_height": null,
            "max_width": null,
            "min_height": null,
            "min_width": null,
            "object_fit": null,
            "object_position": null,
            "order": null,
            "overflow": null,
            "overflow_x": null,
            "overflow_y": null,
            "padding": null,
            "right": null,
            "top": null,
            "visibility": null,
            "width": null
          }
        },
        "d53c35daf1db449c8788c8bef59a014b": {
          "model_module": "@jupyter-widgets/controls",
          "model_name": "DescriptionStyleModel",
          "model_module_version": "1.5.0",
          "state": {
            "_model_module": "@jupyter-widgets/controls",
            "_model_module_version": "1.5.0",
            "_model_name": "DescriptionStyleModel",
            "_view_count": null,
            "_view_module": "@jupyter-widgets/base",
            "_view_module_version": "1.2.0",
            "_view_name": "StyleView",
            "description_width": ""
          }
        },
        "5f9b496a8d384b16a5696118efe38ecc": {
          "model_module": "@jupyter-widgets/controls",
          "model_name": "HBoxModel",
          "model_module_version": "1.5.0",
          "state": {
            "_dom_classes": [],
            "_model_module": "@jupyter-widgets/controls",
            "_model_module_version": "1.5.0",
            "_model_name": "HBoxModel",
            "_view_count": null,
            "_view_module": "@jupyter-widgets/controls",
            "_view_module_version": "1.5.0",
            "_view_name": "HBoxView",
            "box_style": "",
            "children": [
              "IPY_MODEL_82efec15a32942b69a321d1dbebf9a2c",
              "IPY_MODEL_0198248b68f24508b989f8c63328cebe",
              "IPY_MODEL_d834a90b5e0048f2a2ecf43e32fafb55"
            ],
            "layout": "IPY_MODEL_10e63b7070bf4ec1865881a963fba578"
          }
        },
        "82efec15a32942b69a321d1dbebf9a2c": {
          "model_module": "@jupyter-widgets/controls",
          "model_name": "HTMLModel",
          "model_module_version": "1.5.0",
          "state": {
            "_dom_classes": [],
            "_model_module": "@jupyter-widgets/controls",
            "_model_module_version": "1.5.0",
            "_model_name": "HTMLModel",
            "_view_count": null,
            "_view_module": "@jupyter-widgets/controls",
            "_view_module_version": "1.5.0",
            "_view_name": "HTMLView",
            "description": "",
            "description_tooltip": null,
            "layout": "IPY_MODEL_9f1f5aa9f6454e0d837f6a9692ac5998",
            "placeholder": "​",
            "style": "IPY_MODEL_73e4b409530b469dba83aaedf5a11d2c",
            "value": "vocab.txt: 100%"
          }
        },
        "0198248b68f24508b989f8c63328cebe": {
          "model_module": "@jupyter-widgets/controls",
          "model_name": "FloatProgressModel",
          "model_module_version": "1.5.0",
          "state": {
            "_dom_classes": [],
            "_model_module": "@jupyter-widgets/controls",
            "_model_module_version": "1.5.0",
            "_model_name": "FloatProgressModel",
            "_view_count": null,
            "_view_module": "@jupyter-widgets/controls",
            "_view_module_version": "1.5.0",
            "_view_name": "ProgressView",
            "bar_style": "success",
            "description": "",
            "description_tooltip": null,
            "layout": "IPY_MODEL_afdd2353579c445dba66843e92c169c7",
            "max": 225062,
            "min": 0,
            "orientation": "horizontal",
            "style": "IPY_MODEL_6e6618d9825347e2a68a1b98883f873a",
            "value": 225062
          }
        },
        "d834a90b5e0048f2a2ecf43e32fafb55": {
          "model_module": "@jupyter-widgets/controls",
          "model_name": "HTMLModel",
          "model_module_version": "1.5.0",
          "state": {
            "_dom_classes": [],
            "_model_module": "@jupyter-widgets/controls",
            "_model_module_version": "1.5.0",
            "_model_name": "HTMLModel",
            "_view_count": null,
            "_view_module": "@jupyter-widgets/controls",
            "_view_module_version": "1.5.0",
            "_view_name": "HTMLView",
            "description": "",
            "description_tooltip": null,
            "layout": "IPY_MODEL_b709d71da19e42f4ba3ac1914b7c5407",
            "placeholder": "​",
            "style": "IPY_MODEL_21945a765f0f40748a6ad31fbbf06eae",
            "value": " 225k/225k [00:00&lt;00:00, 3.52MB/s]"
          }
        },
        "10e63b7070bf4ec1865881a963fba578": {
          "model_module": "@jupyter-widgets/base",
          "model_name": "LayoutModel",
          "model_module_version": "1.2.0",
          "state": {
            "_model_module": "@jupyter-widgets/base",
            "_model_module_version": "1.2.0",
            "_model_name": "LayoutModel",
            "_view_count": null,
            "_view_module": "@jupyter-widgets/base",
            "_view_module_version": "1.2.0",
            "_view_name": "LayoutView",
            "align_content": null,
            "align_items": null,
            "align_self": null,
            "border": null,
            "bottom": null,
            "display": null,
            "flex": null,
            "flex_flow": null,
            "grid_area": null,
            "grid_auto_columns": null,
            "grid_auto_flow": null,
            "grid_auto_rows": null,
            "grid_column": null,
            "grid_gap": null,
            "grid_row": null,
            "grid_template_areas": null,
            "grid_template_columns": null,
            "grid_template_rows": null,
            "height": null,
            "justify_content": null,
            "justify_items": null,
            "left": null,
            "margin": null,
            "max_height": null,
            "max_width": null,
            "min_height": null,
            "min_width": null,
            "object_fit": null,
            "object_position": null,
            "order": null,
            "overflow": null,
            "overflow_x": null,
            "overflow_y": null,
            "padding": null,
            "right": null,
            "top": null,
            "visibility": null,
            "width": null
          }
        },
        "9f1f5aa9f6454e0d837f6a9692ac5998": {
          "model_module": "@jupyter-widgets/base",
          "model_name": "LayoutModel",
          "model_module_version": "1.2.0",
          "state": {
            "_model_module": "@jupyter-widgets/base",
            "_model_module_version": "1.2.0",
            "_model_name": "LayoutModel",
            "_view_count": null,
            "_view_module": "@jupyter-widgets/base",
            "_view_module_version": "1.2.0",
            "_view_name": "LayoutView",
            "align_content": null,
            "align_items": null,
            "align_self": null,
            "border": null,
            "bottom": null,
            "display": null,
            "flex": null,
            "flex_flow": null,
            "grid_area": null,
            "grid_auto_columns": null,
            "grid_auto_flow": null,
            "grid_auto_rows": null,
            "grid_column": null,
            "grid_gap": null,
            "grid_row": null,
            "grid_template_areas": null,
            "grid_template_columns": null,
            "grid_template_rows": null,
            "height": null,
            "justify_content": null,
            "justify_items": null,
            "left": null,
            "margin": null,
            "max_height": null,
            "max_width": null,
            "min_height": null,
            "min_width": null,
            "object_fit": null,
            "object_position": null,
            "order": null,
            "overflow": null,
            "overflow_x": null,
            "overflow_y": null,
            "padding": null,
            "right": null,
            "top": null,
            "visibility": null,
            "width": null
          }
        },
        "73e4b409530b469dba83aaedf5a11d2c": {
          "model_module": "@jupyter-widgets/controls",
          "model_name": "DescriptionStyleModel",
          "model_module_version": "1.5.0",
          "state": {
            "_model_module": "@jupyter-widgets/controls",
            "_model_module_version": "1.5.0",
            "_model_name": "DescriptionStyleModel",
            "_view_count": null,
            "_view_module": "@jupyter-widgets/base",
            "_view_module_version": "1.2.0",
            "_view_name": "StyleView",
            "description_width": ""
          }
        },
        "afdd2353579c445dba66843e92c169c7": {
          "model_module": "@jupyter-widgets/base",
          "model_name": "LayoutModel",
          "model_module_version": "1.2.0",
          "state": {
            "_model_module": "@jupyter-widgets/base",
            "_model_module_version": "1.2.0",
            "_model_name": "LayoutModel",
            "_view_count": null,
            "_view_module": "@jupyter-widgets/base",
            "_view_module_version": "1.2.0",
            "_view_name": "LayoutView",
            "align_content": null,
            "align_items": null,
            "align_self": null,
            "border": null,
            "bottom": null,
            "display": null,
            "flex": null,
            "flex_flow": null,
            "grid_area": null,
            "grid_auto_columns": null,
            "grid_auto_flow": null,
            "grid_auto_rows": null,
            "grid_column": null,
            "grid_gap": null,
            "grid_row": null,
            "grid_template_areas": null,
            "grid_template_columns": null,
            "grid_template_rows": null,
            "height": null,
            "justify_content": null,
            "justify_items": null,
            "left": null,
            "margin": null,
            "max_height": null,
            "max_width": null,
            "min_height": null,
            "min_width": null,
            "object_fit": null,
            "object_position": null,
            "order": null,
            "overflow": null,
            "overflow_x": null,
            "overflow_y": null,
            "padding": null,
            "right": null,
            "top": null,
            "visibility": null,
            "width": null
          }
        },
        "6e6618d9825347e2a68a1b98883f873a": {
          "model_module": "@jupyter-widgets/controls",
          "model_name": "ProgressStyleModel",
          "model_module_version": "1.5.0",
          "state": {
            "_model_module": "@jupyter-widgets/controls",
            "_model_module_version": "1.5.0",
            "_model_name": "ProgressStyleModel",
            "_view_count": null,
            "_view_module": "@jupyter-widgets/base",
            "_view_module_version": "1.2.0",
            "_view_name": "StyleView",
            "bar_color": null,
            "description_width": ""
          }
        },
        "b709d71da19e42f4ba3ac1914b7c5407": {
          "model_module": "@jupyter-widgets/base",
          "model_name": "LayoutModel",
          "model_module_version": "1.2.0",
          "state": {
            "_model_module": "@jupyter-widgets/base",
            "_model_module_version": "1.2.0",
            "_model_name": "LayoutModel",
            "_view_count": null,
            "_view_module": "@jupyter-widgets/base",
            "_view_module_version": "1.2.0",
            "_view_name": "LayoutView",
            "align_content": null,
            "align_items": null,
            "align_self": null,
            "border": null,
            "bottom": null,
            "display": null,
            "flex": null,
            "flex_flow": null,
            "grid_area": null,
            "grid_auto_columns": null,
            "grid_auto_flow": null,
            "grid_auto_rows": null,
            "grid_column": null,
            "grid_gap": null,
            "grid_row": null,
            "grid_template_areas": null,
            "grid_template_columns": null,
            "grid_template_rows": null,
            "height": null,
            "justify_content": null,
            "justify_items": null,
            "left": null,
            "margin": null,
            "max_height": null,
            "max_width": null,
            "min_height": null,
            "min_width": null,
            "object_fit": null,
            "object_position": null,
            "order": null,
            "overflow": null,
            "overflow_x": null,
            "overflow_y": null,
            "padding": null,
            "right": null,
            "top": null,
            "visibility": null,
            "width": null
          }
        },
        "21945a765f0f40748a6ad31fbbf06eae": {
          "model_module": "@jupyter-widgets/controls",
          "model_name": "DescriptionStyleModel",
          "model_module_version": "1.5.0",
          "state": {
            "_model_module": "@jupyter-widgets/controls",
            "_model_module_version": "1.5.0",
            "_model_name": "DescriptionStyleModel",
            "_view_count": null,
            "_view_module": "@jupyter-widgets/base",
            "_view_module_version": "1.2.0",
            "_view_name": "StyleView",
            "description_width": ""
          }
        },
        "21f6b4c76aec4bee8d2a86d34e77042f": {
          "model_module": "@jupyter-widgets/controls",
          "model_name": "HBoxModel",
          "model_module_version": "1.5.0",
          "state": {
            "_dom_classes": [],
            "_model_module": "@jupyter-widgets/controls",
            "_model_module_version": "1.5.0",
            "_model_name": "HBoxModel",
            "_view_count": null,
            "_view_module": "@jupyter-widgets/controls",
            "_view_module_version": "1.5.0",
            "_view_name": "HBoxView",
            "box_style": "",
            "children": [
              "IPY_MODEL_9fa658e47fbc40bb99dd53bf2fdd40c4",
              "IPY_MODEL_e70627d15134471883c0adea1cdd5b23",
              "IPY_MODEL_35892f13622a4efca9a92c3ab018581e"
            ],
            "layout": "IPY_MODEL_160ebb4e77bd4751bea695dccfd44cb0"
          }
        },
        "9fa658e47fbc40bb99dd53bf2fdd40c4": {
          "model_module": "@jupyter-widgets/controls",
          "model_name": "HTMLModel",
          "model_module_version": "1.5.0",
          "state": {
            "_dom_classes": [],
            "_model_module": "@jupyter-widgets/controls",
            "_model_module_version": "1.5.0",
            "_model_name": "HTMLModel",
            "_view_count": null,
            "_view_module": "@jupyter-widgets/controls",
            "_view_module_version": "1.5.0",
            "_view_name": "HTMLView",
            "description": "",
            "description_tooltip": null,
            "layout": "IPY_MODEL_d9edd2ddb1a14d7fbe20caad51985cc5",
            "placeholder": "​",
            "style": "IPY_MODEL_d0dbf7877d07497c80a437ea4c66baf8",
            "value": "config.json: 100%"
          }
        },
        "e70627d15134471883c0adea1cdd5b23": {
          "model_module": "@jupyter-widgets/controls",
          "model_name": "FloatProgressModel",
          "model_module_version": "1.5.0",
          "state": {
            "_dom_classes": [],
            "_model_module": "@jupyter-widgets/controls",
            "_model_module_version": "1.5.0",
            "_model_name": "FloatProgressModel",
            "_view_count": null,
            "_view_module": "@jupyter-widgets/controls",
            "_view_module_version": "1.5.0",
            "_view_name": "ProgressView",
            "bar_style": "success",
            "description": "",
            "description_tooltip": null,
            "layout": "IPY_MODEL_d8f3782cd25941b9adf3f6447022799b",
            "max": 385,
            "min": 0,
            "orientation": "horizontal",
            "style": "IPY_MODEL_b23e78b1f8df4beb96f991113bc442ed",
            "value": 385
          }
        },
        "35892f13622a4efca9a92c3ab018581e": {
          "model_module": "@jupyter-widgets/controls",
          "model_name": "HTMLModel",
          "model_module_version": "1.5.0",
          "state": {
            "_dom_classes": [],
            "_model_module": "@jupyter-widgets/controls",
            "_model_module_version": "1.5.0",
            "_model_name": "HTMLModel",
            "_view_count": null,
            "_view_module": "@jupyter-widgets/controls",
            "_view_module_version": "1.5.0",
            "_view_name": "HTMLView",
            "description": "",
            "description_tooltip": null,
            "layout": "IPY_MODEL_333e3b64146342559f8a9e62166602ed",
            "placeholder": "​",
            "style": "IPY_MODEL_aee75d75b00047b08bdf0ced5f0f2c68",
            "value": " 385/385 [00:00&lt;00:00, 36.6kB/s]"
          }
        },
        "160ebb4e77bd4751bea695dccfd44cb0": {
          "model_module": "@jupyter-widgets/base",
          "model_name": "LayoutModel",
          "model_module_version": "1.2.0",
          "state": {
            "_model_module": "@jupyter-widgets/base",
            "_model_module_version": "1.2.0",
            "_model_name": "LayoutModel",
            "_view_count": null,
            "_view_module": "@jupyter-widgets/base",
            "_view_module_version": "1.2.0",
            "_view_name": "LayoutView",
            "align_content": null,
            "align_items": null,
            "align_self": null,
            "border": null,
            "bottom": null,
            "display": null,
            "flex": null,
            "flex_flow": null,
            "grid_area": null,
            "grid_auto_columns": null,
            "grid_auto_flow": null,
            "grid_auto_rows": null,
            "grid_column": null,
            "grid_gap": null,
            "grid_row": null,
            "grid_template_areas": null,
            "grid_template_columns": null,
            "grid_template_rows": null,
            "height": null,
            "justify_content": null,
            "justify_items": null,
            "left": null,
            "margin": null,
            "max_height": null,
            "max_width": null,
            "min_height": null,
            "min_width": null,
            "object_fit": null,
            "object_position": null,
            "order": null,
            "overflow": null,
            "overflow_x": null,
            "overflow_y": null,
            "padding": null,
            "right": null,
            "top": null,
            "visibility": null,
            "width": null
          }
        },
        "d9edd2ddb1a14d7fbe20caad51985cc5": {
          "model_module": "@jupyter-widgets/base",
          "model_name": "LayoutModel",
          "model_module_version": "1.2.0",
          "state": {
            "_model_module": "@jupyter-widgets/base",
            "_model_module_version": "1.2.0",
            "_model_name": "LayoutModel",
            "_view_count": null,
            "_view_module": "@jupyter-widgets/base",
            "_view_module_version": "1.2.0",
            "_view_name": "LayoutView",
            "align_content": null,
            "align_items": null,
            "align_self": null,
            "border": null,
            "bottom": null,
            "display": null,
            "flex": null,
            "flex_flow": null,
            "grid_area": null,
            "grid_auto_columns": null,
            "grid_auto_flow": null,
            "grid_auto_rows": null,
            "grid_column": null,
            "grid_gap": null,
            "grid_row": null,
            "grid_template_areas": null,
            "grid_template_columns": null,
            "grid_template_rows": null,
            "height": null,
            "justify_content": null,
            "justify_items": null,
            "left": null,
            "margin": null,
            "max_height": null,
            "max_width": null,
            "min_height": null,
            "min_width": null,
            "object_fit": null,
            "object_position": null,
            "order": null,
            "overflow": null,
            "overflow_x": null,
            "overflow_y": null,
            "padding": null,
            "right": null,
            "top": null,
            "visibility": null,
            "width": null
          }
        },
        "d0dbf7877d07497c80a437ea4c66baf8": {
          "model_module": "@jupyter-widgets/controls",
          "model_name": "DescriptionStyleModel",
          "model_module_version": "1.5.0",
          "state": {
            "_model_module": "@jupyter-widgets/controls",
            "_model_module_version": "1.5.0",
            "_model_name": "DescriptionStyleModel",
            "_view_count": null,
            "_view_module": "@jupyter-widgets/base",
            "_view_module_version": "1.2.0",
            "_view_name": "StyleView",
            "description_width": ""
          }
        },
        "d8f3782cd25941b9adf3f6447022799b": {
          "model_module": "@jupyter-widgets/base",
          "model_name": "LayoutModel",
          "model_module_version": "1.2.0",
          "state": {
            "_model_module": "@jupyter-widgets/base",
            "_model_module_version": "1.2.0",
            "_model_name": "LayoutModel",
            "_view_count": null,
            "_view_module": "@jupyter-widgets/base",
            "_view_module_version": "1.2.0",
            "_view_name": "LayoutView",
            "align_content": null,
            "align_items": null,
            "align_self": null,
            "border": null,
            "bottom": null,
            "display": null,
            "flex": null,
            "flex_flow": null,
            "grid_area": null,
            "grid_auto_columns": null,
            "grid_auto_flow": null,
            "grid_auto_rows": null,
            "grid_column": null,
            "grid_gap": null,
            "grid_row": null,
            "grid_template_areas": null,
            "grid_template_columns": null,
            "grid_template_rows": null,
            "height": null,
            "justify_content": null,
            "justify_items": null,
            "left": null,
            "margin": null,
            "max_height": null,
            "max_width": null,
            "min_height": null,
            "min_width": null,
            "object_fit": null,
            "object_position": null,
            "order": null,
            "overflow": null,
            "overflow_x": null,
            "overflow_y": null,
            "padding": null,
            "right": null,
            "top": null,
            "visibility": null,
            "width": null
          }
        },
        "b23e78b1f8df4beb96f991113bc442ed": {
          "model_module": "@jupyter-widgets/controls",
          "model_name": "ProgressStyleModel",
          "model_module_version": "1.5.0",
          "state": {
            "_model_module": "@jupyter-widgets/controls",
            "_model_module_version": "1.5.0",
            "_model_name": "ProgressStyleModel",
            "_view_count": null,
            "_view_module": "@jupyter-widgets/base",
            "_view_module_version": "1.2.0",
            "_view_name": "StyleView",
            "bar_color": null,
            "description_width": ""
          }
        },
        "333e3b64146342559f8a9e62166602ed": {
          "model_module": "@jupyter-widgets/base",
          "model_name": "LayoutModel",
          "model_module_version": "1.2.0",
          "state": {
            "_model_module": "@jupyter-widgets/base",
            "_model_module_version": "1.2.0",
            "_model_name": "LayoutModel",
            "_view_count": null,
            "_view_module": "@jupyter-widgets/base",
            "_view_module_version": "1.2.0",
            "_view_name": "LayoutView",
            "align_content": null,
            "align_items": null,
            "align_self": null,
            "border": null,
            "bottom": null,
            "display": null,
            "flex": null,
            "flex_flow": null,
            "grid_area": null,
            "grid_auto_columns": null,
            "grid_auto_flow": null,
            "grid_auto_rows": null,
            "grid_column": null,
            "grid_gap": null,
            "grid_row": null,
            "grid_template_areas": null,
            "grid_template_columns": null,
            "grid_template_rows": null,
            "height": null,
            "justify_content": null,
            "justify_items": null,
            "left": null,
            "margin": null,
            "max_height": null,
            "max_width": null,
            "min_height": null,
            "min_width": null,
            "object_fit": null,
            "object_position": null,
            "order": null,
            "overflow": null,
            "overflow_x": null,
            "overflow_y": null,
            "padding": null,
            "right": null,
            "top": null,
            "visibility": null,
            "width": null
          }
        },
        "aee75d75b00047b08bdf0ced5f0f2c68": {
          "model_module": "@jupyter-widgets/controls",
          "model_name": "DescriptionStyleModel",
          "model_module_version": "1.5.0",
          "state": {
            "_model_module": "@jupyter-widgets/controls",
            "_model_module_version": "1.5.0",
            "_model_name": "DescriptionStyleModel",
            "_view_count": null,
            "_view_module": "@jupyter-widgets/base",
            "_view_module_version": "1.2.0",
            "_view_name": "StyleView",
            "description_width": ""
          }
        },
        "939b252ba5e845e5a9faba97f36d8d46": {
          "model_module": "@jupyter-widgets/controls",
          "model_name": "HBoxModel",
          "model_module_version": "1.5.0",
          "state": {
            "_dom_classes": [],
            "_model_module": "@jupyter-widgets/controls",
            "_model_module_version": "1.5.0",
            "_model_name": "HBoxModel",
            "_view_count": null,
            "_view_module": "@jupyter-widgets/controls",
            "_view_module_version": "1.5.0",
            "_view_name": "HBoxView",
            "box_style": "",
            "children": [
              "IPY_MODEL_1fd3959856cd406e98e53e2a77785873",
              "IPY_MODEL_142b7ac7f6df497d8a192badebc47a06",
              "IPY_MODEL_b2052354788c44fdaa88b29d890c9549"
            ],
            "layout": "IPY_MODEL_c0588ceaf1374faaa4660cd3311565c7"
          }
        },
        "1fd3959856cd406e98e53e2a77785873": {
          "model_module": "@jupyter-widgets/controls",
          "model_name": "HTMLModel",
          "model_module_version": "1.5.0",
          "state": {
            "_dom_classes": [],
            "_model_module": "@jupyter-widgets/controls",
            "_model_module_version": "1.5.0",
            "_model_name": "HTMLModel",
            "_view_count": null,
            "_view_module": "@jupyter-widgets/controls",
            "_view_module_version": "1.5.0",
            "_view_name": "HTMLView",
            "description": "",
            "description_tooltip": null,
            "layout": "IPY_MODEL_5c88c89ec579400b98988a25e2c16475",
            "placeholder": "​",
            "style": "IPY_MODEL_0ac1af50d05d43ada20d75fafec2c060",
            "value": "pytorch_model.bin: 100%"
          }
        },
        "142b7ac7f6df497d8a192badebc47a06": {
          "model_module": "@jupyter-widgets/controls",
          "model_name": "FloatProgressModel",
          "model_module_version": "1.5.0",
          "state": {
            "_dom_classes": [],
            "_model_module": "@jupyter-widgets/controls",
            "_model_module_version": "1.5.0",
            "_model_name": "FloatProgressModel",
            "_view_count": null,
            "_view_module": "@jupyter-widgets/controls",
            "_view_module_version": "1.5.0",
            "_view_name": "ProgressView",
            "bar_style": "success",
            "description": "",
            "description_tooltip": null,
            "layout": "IPY_MODEL_267a5d02615b4a9eb5afa989f971e444",
            "max": 440474434,
            "min": 0,
            "orientation": "horizontal",
            "style": "IPY_MODEL_8a822e28c96f4f7f9e65337000baa63b",
            "value": 440474434
          }
        },
        "b2052354788c44fdaa88b29d890c9549": {
          "model_module": "@jupyter-widgets/controls",
          "model_name": "HTMLModel",
          "model_module_version": "1.5.0",
          "state": {
            "_dom_classes": [],
            "_model_module": "@jupyter-widgets/controls",
            "_model_module_version": "1.5.0",
            "_model_name": "HTMLModel",
            "_view_count": null,
            "_view_module": "@jupyter-widgets/controls",
            "_view_module_version": "1.5.0",
            "_view_name": "HTMLView",
            "description": "",
            "description_tooltip": null,
            "layout": "IPY_MODEL_f5926f73a31c4b0a9acb874359ba6412",
            "placeholder": "​",
            "style": "IPY_MODEL_da75a2cb386149dc8cbf5122e7168bfc",
            "value": " 440M/440M [00:08&lt;00:00, 53.4MB/s]"
          }
        },
        "c0588ceaf1374faaa4660cd3311565c7": {
          "model_module": "@jupyter-widgets/base",
          "model_name": "LayoutModel",
          "model_module_version": "1.2.0",
          "state": {
            "_model_module": "@jupyter-widgets/base",
            "_model_module_version": "1.2.0",
            "_model_name": "LayoutModel",
            "_view_count": null,
            "_view_module": "@jupyter-widgets/base",
            "_view_module_version": "1.2.0",
            "_view_name": "LayoutView",
            "align_content": null,
            "align_items": null,
            "align_self": null,
            "border": null,
            "bottom": null,
            "display": null,
            "flex": null,
            "flex_flow": null,
            "grid_area": null,
            "grid_auto_columns": null,
            "grid_auto_flow": null,
            "grid_auto_rows": null,
            "grid_column": null,
            "grid_gap": null,
            "grid_row": null,
            "grid_template_areas": null,
            "grid_template_columns": null,
            "grid_template_rows": null,
            "height": null,
            "justify_content": null,
            "justify_items": null,
            "left": null,
            "margin": null,
            "max_height": null,
            "max_width": null,
            "min_height": null,
            "min_width": null,
            "object_fit": null,
            "object_position": null,
            "order": null,
            "overflow": null,
            "overflow_x": null,
            "overflow_y": null,
            "padding": null,
            "right": null,
            "top": null,
            "visibility": null,
            "width": null
          }
        },
        "5c88c89ec579400b98988a25e2c16475": {
          "model_module": "@jupyter-widgets/base",
          "model_name": "LayoutModel",
          "model_module_version": "1.2.0",
          "state": {
            "_model_module": "@jupyter-widgets/base",
            "_model_module_version": "1.2.0",
            "_model_name": "LayoutModel",
            "_view_count": null,
            "_view_module": "@jupyter-widgets/base",
            "_view_module_version": "1.2.0",
            "_view_name": "LayoutView",
            "align_content": null,
            "align_items": null,
            "align_self": null,
            "border": null,
            "bottom": null,
            "display": null,
            "flex": null,
            "flex_flow": null,
            "grid_area": null,
            "grid_auto_columns": null,
            "grid_auto_flow": null,
            "grid_auto_rows": null,
            "grid_column": null,
            "grid_gap": null,
            "grid_row": null,
            "grid_template_areas": null,
            "grid_template_columns": null,
            "grid_template_rows": null,
            "height": null,
            "justify_content": null,
            "justify_items": null,
            "left": null,
            "margin": null,
            "max_height": null,
            "max_width": null,
            "min_height": null,
            "min_width": null,
            "object_fit": null,
            "object_position": null,
            "order": null,
            "overflow": null,
            "overflow_x": null,
            "overflow_y": null,
            "padding": null,
            "right": null,
            "top": null,
            "visibility": null,
            "width": null
          }
        },
        "0ac1af50d05d43ada20d75fafec2c060": {
          "model_module": "@jupyter-widgets/controls",
          "model_name": "DescriptionStyleModel",
          "model_module_version": "1.5.0",
          "state": {
            "_model_module": "@jupyter-widgets/controls",
            "_model_module_version": "1.5.0",
            "_model_name": "DescriptionStyleModel",
            "_view_count": null,
            "_view_module": "@jupyter-widgets/base",
            "_view_module_version": "1.2.0",
            "_view_name": "StyleView",
            "description_width": ""
          }
        },
        "267a5d02615b4a9eb5afa989f971e444": {
          "model_module": "@jupyter-widgets/base",
          "model_name": "LayoutModel",
          "model_module_version": "1.2.0",
          "state": {
            "_model_module": "@jupyter-widgets/base",
            "_model_module_version": "1.2.0",
            "_model_name": "LayoutModel",
            "_view_count": null,
            "_view_module": "@jupyter-widgets/base",
            "_view_module_version": "1.2.0",
            "_view_name": "LayoutView",
            "align_content": null,
            "align_items": null,
            "align_self": null,
            "border": null,
            "bottom": null,
            "display": null,
            "flex": null,
            "flex_flow": null,
            "grid_area": null,
            "grid_auto_columns": null,
            "grid_auto_flow": null,
            "grid_auto_rows": null,
            "grid_column": null,
            "grid_gap": null,
            "grid_row": null,
            "grid_template_areas": null,
            "grid_template_columns": null,
            "grid_template_rows": null,
            "height": null,
            "justify_content": null,
            "justify_items": null,
            "left": null,
            "margin": null,
            "max_height": null,
            "max_width": null,
            "min_height": null,
            "min_width": null,
            "object_fit": null,
            "object_position": null,
            "order": null,
            "overflow": null,
            "overflow_x": null,
            "overflow_y": null,
            "padding": null,
            "right": null,
            "top": null,
            "visibility": null,
            "width": null
          }
        },
        "8a822e28c96f4f7f9e65337000baa63b": {
          "model_module": "@jupyter-widgets/controls",
          "model_name": "ProgressStyleModel",
          "model_module_version": "1.5.0",
          "state": {
            "_model_module": "@jupyter-widgets/controls",
            "_model_module_version": "1.5.0",
            "_model_name": "ProgressStyleModel",
            "_view_count": null,
            "_view_module": "@jupyter-widgets/base",
            "_view_module_version": "1.2.0",
            "_view_name": "StyleView",
            "bar_color": null,
            "description_width": ""
          }
        },
        "f5926f73a31c4b0a9acb874359ba6412": {
          "model_module": "@jupyter-widgets/base",
          "model_name": "LayoutModel",
          "model_module_version": "1.2.0",
          "state": {
            "_model_module": "@jupyter-widgets/base",
            "_model_module_version": "1.2.0",
            "_model_name": "LayoutModel",
            "_view_count": null,
            "_view_module": "@jupyter-widgets/base",
            "_view_module_version": "1.2.0",
            "_view_name": "LayoutView",
            "align_content": null,
            "align_items": null,
            "align_self": null,
            "border": null,
            "bottom": null,
            "display": null,
            "flex": null,
            "flex_flow": null,
            "grid_area": null,
            "grid_auto_columns": null,
            "grid_auto_flow": null,
            "grid_auto_rows": null,
            "grid_column": null,
            "grid_gap": null,
            "grid_row": null,
            "grid_template_areas": null,
            "grid_template_columns": null,
            "grid_template_rows": null,
            "height": null,
            "justify_content": null,
            "justify_items": null,
            "left": null,
            "margin": null,
            "max_height": null,
            "max_width": null,
            "min_height": null,
            "min_width": null,
            "object_fit": null,
            "object_position": null,
            "order": null,
            "overflow": null,
            "overflow_x": null,
            "overflow_y": null,
            "padding": null,
            "right": null,
            "top": null,
            "visibility": null,
            "width": null
          }
        },
        "da75a2cb386149dc8cbf5122e7168bfc": {
          "model_module": "@jupyter-widgets/controls",
          "model_name": "DescriptionStyleModel",
          "model_module_version": "1.5.0",
          "state": {
            "_model_module": "@jupyter-widgets/controls",
            "_model_module_version": "1.5.0",
            "_model_name": "DescriptionStyleModel",
            "_view_count": null,
            "_view_module": "@jupyter-widgets/base",
            "_view_module_version": "1.2.0",
            "_view_name": "StyleView",
            "description_width": ""
          }
        }
      }
    }
  },
  "nbformat": 4,
  "nbformat_minor": 0
}